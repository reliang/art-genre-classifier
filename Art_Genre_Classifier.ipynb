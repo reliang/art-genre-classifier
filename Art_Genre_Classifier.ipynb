{
  "nbformat": 4,
  "nbformat_minor": 0,
  "metadata": {
    "accelerator": "GPU",
    "colab": {
      "name": "Art Genre Classifier.ipynb",
      "provenance": [],
      "collapsed_sections": [],
      "toc_visible": true,
      "include_colab_link": true
    },
    "kernelspec": {
      "display_name": "Python 3",
      "name": "python3"
    }
  },
  "cells": [
    {
      "cell_type": "markdown",
      "metadata": {
        "id": "view-in-github",
        "colab_type": "text"
      },
      "source": [
        "<a href=\"https://colab.research.google.com/github/reliang/art-genre-classifier/blob/main/Art_Genre_Classifier.ipynb\" target=\"_parent\"><img src=\"https://colab.research.google.com/assets/colab-badge.svg\" alt=\"Open In Colab\"/></a>"
      ]
    },
    {
      "cell_type": "markdown",
      "metadata": {
        "id": "Ku-EBm1IA-FY"
      },
      "source": [
        "# Predicting Painting Genres with Machine Learning\n",
        "Team: Catherine Liang (419, KongYao), Yuhui Ma (419, KongYao), Wangruolan Hu (519, KongYao)\n",
        "\n",
        "Project Mentor TA: KongYao"
      ]
    },
    {
      "cell_type": "markdown",
      "metadata": {
        "id": "48bTQFz0i_4K"
      },
      "source": [
        "**The current train/test sets are saved as pickle files (module for storing python objects)! I uploaded them to our shared Google Drive. Skip Part 1-4 unless for collecting more data, changing the size of existing images, or adjusting train/test sets.**\n",
        "\n",
        "--Catherine\n"
      ]
    },
    {
      "cell_type": "markdown",
      "metadata": {
        "id": "GXBBRahJsC7x"
      },
      "source": [
        "Also run the line below for global/constant variables."
      ]
    },
    {
      "cell_type": "code",
      "metadata": {
        "id": "61JGb_TxsBBr"
      },
      "source": [
        "IMG_SIZE = 80"
      ],
      "execution_count": null,
      "outputs": []
    },
    {
      "cell_type": "markdown",
      "metadata": {
        "id": "he35P9oe6C-q"
      },
      "source": [
        "## Part 1: Data Collection"
      ]
    },
    {
      "cell_type": "code",
      "metadata": {
        "id": "tYnZYHXaOy6K"
      },
      "source": [
        "# Import torch, torchvision libraries\n",
        "import torch\n",
        "import torchvision\n",
        "import torchvision.transforms as transforms\n",
        "import torch.nn as nn\n",
        "import torch.nn.functional as F\n",
        "import torch.optim as optim\n",
        "\n",
        "# Import numpy for some computation\n",
        "import numpy as np\n",
        "\n",
        "# Import matplotlib for plotting\n",
        "import matplotlib.pyplot as plt\n",
        " \n",
        "device      = torch.device(\"cuda:0\" if torch.cuda.is_available() else \"cpu\")"
      ],
      "execution_count": null,
      "outputs": []
    },
    {
      "cell_type": "markdown",
      "metadata": {
        "id": "9ernFFAP6VxP"
      },
      "source": [
        "Based on Bing Image Downloader: https://www.youtube.com/watch?v=solASfMs89Q\n",
        "\n",
        "Run each of the lines below to download images into the \"images\" folder. Change the search word in quotes to execute different searches. Run the lines at the end to zip the image folder and save onto your own computer. On the computer, we will also need to go in and delete any unrelated images or repeats.\n",
        "\n",
        "(For some reason, Bing Image Download isn't working well for me anymore, and keeps showing repeated images. I've switched to using Google Image Download instead. I have resources & code below this section.)\n",
        "\n",
        "--Catherine"
      ]
    },
    {
      "cell_type": "code",
      "metadata": {
        "colab": {
          "base_uri": "https://localhost:8080/"
        },
        "id": "WNomVRsd5a0g",
        "outputId": "f56e3427-28db-476c-9431-7449c511d7b5"
      },
      "source": [
        "!pip install bing-image-downloader"
      ],
      "execution_count": null,
      "outputs": [
        {
          "output_type": "stream",
          "text": [
            "Collecting bing-image-downloader\n",
            "  Downloading https://files.pythonhosted.org/packages/0d/bf/537a61030b84ae4cd5022d5c7b014fd9bc3ce7c02358919153a6658a61d3/bing_image_downloader-1.0.4-py3-none-any.whl\n",
            "Installing collected packages: bing-image-downloader\n",
            "Successfully installed bing-image-downloader-1.0.4\n"
          ],
          "name": "stdout"
        }
      ]
    },
    {
      "cell_type": "code",
      "metadata": {
        "id": "sT4l1hB65rV0"
      },
      "source": [
        "!mkdir images"
      ],
      "execution_count": null,
      "outputs": []
    },
    {
      "cell_type": "code",
      "metadata": {
        "id": "S1GrzG1-6CQe"
      },
      "source": [
        "from bing_image_downloader import downloader\n",
        "downloader.download(\"renaissance art\", limit=200, output_dir='images')"
      ],
      "execution_count": null,
      "outputs": []
    },
    {
      "cell_type": "code",
      "metadata": {
        "id": "RphA7jwl8xeK"
      },
      "source": [
        "!zip -r /content/images.zip /content/images/"
      ],
      "execution_count": null,
      "outputs": []
    },
    {
      "cell_type": "code",
      "metadata": {
        "colab": {
          "base_uri": "https://localhost:8080/",
          "height": 17
        },
        "id": "8_RMzAE186Of",
        "outputId": "bf657b50-3cb6-43a4-c299-2097d815db2a"
      },
      "source": [
        "from google.colab import files\n",
        "files.download(\"/content/images.zip\")"
      ],
      "execution_count": null,
      "outputs": [
        {
          "output_type": "display_data",
          "data": {
            "application/javascript": [
              "\n",
              "    async function download(id, filename, size) {\n",
              "      if (!google.colab.kernel.accessAllowed) {\n",
              "        return;\n",
              "      }\n",
              "      const div = document.createElement('div');\n",
              "      const label = document.createElement('label');\n",
              "      label.textContent = `Downloading \"${filename}\": `;\n",
              "      div.appendChild(label);\n",
              "      const progress = document.createElement('progress');\n",
              "      progress.max = size;\n",
              "      div.appendChild(progress);\n",
              "      document.body.appendChild(div);\n",
              "\n",
              "      const buffers = [];\n",
              "      let downloaded = 0;\n",
              "\n",
              "      const channel = await google.colab.kernel.comms.open(id);\n",
              "      // Send a message to notify the kernel that we're ready.\n",
              "      channel.send({})\n",
              "\n",
              "      for await (const message of channel.messages) {\n",
              "        // Send a message to notify the kernel that we're ready.\n",
              "        channel.send({})\n",
              "        if (message.buffers) {\n",
              "          for (const buffer of message.buffers) {\n",
              "            buffers.push(buffer);\n",
              "            downloaded += buffer.byteLength;\n",
              "            progress.value = downloaded;\n",
              "          }\n",
              "        }\n",
              "      }\n",
              "      const blob = new Blob(buffers, {type: 'application/binary'});\n",
              "      const a = document.createElement('a');\n",
              "      a.href = window.URL.createObjectURL(blob);\n",
              "      a.download = filename;\n",
              "      div.appendChild(a);\n",
              "      a.click();\n",
              "      div.remove();\n",
              "    }\n",
              "  "
            ],
            "text/plain": [
              "<IPython.core.display.Javascript object>"
            ]
          },
          "metadata": {
            "tags": []
          }
        },
        {
          "output_type": "display_data",
          "data": {
            "application/javascript": [
              "download(\"download_5ccc73a5-4803-479f-b394-fd1999d02ef4\", \"images.zip\", 24070688)"
            ],
            "text/plain": [
              "<IPython.core.display.Javascript object>"
            ]
          },
          "metadata": {
            "tags": []
          }
        }
      ]
    },
    {
      "cell_type": "code",
      "metadata": {
        "id": "I0AFvnLSEzBa"
      },
      "source": [
        "!rm -rf images\n",
        "!rm images.zip"
      ],
      "execution_count": null,
      "outputs": []
    },
    {
      "cell_type": "markdown",
      "metadata": {
        "id": "v8Byp0Ax-npV"
      },
      "source": [
        "Also, here's a possibly useful fine arts dataset I found, but only has 50 artists: https://www.kaggle.com/ikarus777/best-artworks-of-all-time."
      ]
    },
    {
      "cell_type": "code",
      "metadata": {
        "id": "43HRrA_57qYk"
      },
      "source": [
        "#downloader.download(\"abstract art painting\", limit=200, output_dir='abstract')\n",
        "#!zip -r /content/abstract.zip /content/abstract/"
      ],
      "execution_count": null,
      "outputs": []
    },
    {
      "cell_type": "markdown",
      "metadata": {
        "id": "AAyQ6y3pH4OD"
      },
      "source": [
        "Based on Google Image Download tutorial: https://www.pyimagesearch.com/2017/12/04/how-to-create-a-deep-learning-dataset-using-google-images/\n",
        "\n",
        "First complete the steps in the tutorial to download a \"url.txt\" file, then upload it here and run the code below to download from those urls. Make sure to make a directory on Colab images to, and input that file path in downloadImages().\n",
        "\n",
        "--Catherine"
      ]
    },
    {
      "cell_type": "code",
      "metadata": {
        "colab": {
          "base_uri": "https://localhost:8080/"
        },
        "id": "drGC2YRqH3sW",
        "outputId": "be127ae3-081e-4b96-cdd9-c0b84c09417c"
      },
      "source": [
        "!workon cv"
      ],
      "execution_count": null,
      "outputs": [
        {
          "output_type": "stream",
          "text": [
            "/bin/bash: workon: command not found\n"
          ],
          "name": "stdout"
        }
      ]
    },
    {
      "cell_type": "code",
      "metadata": {
        "colab": {
          "base_uri": "https://localhost:8080/"
        },
        "id": "b3pL4qx0IL_f",
        "outputId": "ab9bf449-3987-4d45-d5c2-f5648e5332a8"
      },
      "source": [
        "!pip install requests"
      ],
      "execution_count": null,
      "outputs": [
        {
          "output_type": "stream",
          "text": [
            "Requirement already satisfied: requests in /usr/local/lib/python3.7/dist-packages (2.23.0)\n",
            "Requirement already satisfied: chardet<4,>=3.0.2 in /usr/local/lib/python3.7/dist-packages (from requests) (3.0.4)\n",
            "Requirement already satisfied: idna<3,>=2.5 in /usr/local/lib/python3.7/dist-packages (from requests) (2.10)\n",
            "Requirement already satisfied: certifi>=2017.4.17 in /usr/local/lib/python3.7/dist-packages (from requests) (2020.12.5)\n",
            "Requirement already satisfied: urllib3!=1.25.0,!=1.25.1,<1.26,>=1.21.1 in /usr/local/lib/python3.7/dist-packages (from requests) (1.24.3)\n"
          ],
          "name": "stdout"
        }
      ]
    },
    {
      "cell_type": "code",
      "metadata": {
        "id": "SGYqm6lMIWcm"
      },
      "source": [
        "# import the necessary packages\n",
        "from imutils import paths\n",
        "import argparse\n",
        "import requests\n",
        "import cv2\n",
        "import os\n",
        "from google.colab import files\n",
        "\n",
        "def downloadImages(urls, output):\n",
        "    # grab the list of URLs from the input file, then initialize the\n",
        "    # total number of images downloaded thus far\n",
        "    rows = open(urls).read().strip().split(\"\\n\")\n",
        "    total = 0\n",
        "\n",
        "    # loop the URLs\n",
        "    for url in rows:\n",
        "      try:\n",
        "        # try to download the image\n",
        "        r = requests.get(url, timeout=60)\n",
        "        # save the image to disk\n",
        "        p = os.path.sep.join([output, \"{}.jpg\".format(\n",
        "          str(total).zfill(8))])\n",
        "        print(p)\n",
        "        f = open(p, \"wb\")\n",
        "        f.write(r.content)\n",
        "        f.close()\n",
        "        # update the counter\n",
        "        print(\"[INFO] downloaded: {}\".format(p))\n",
        "        total += 1\n",
        "      # handle if any exceptions are thrown during the download process\n",
        "      except:\n",
        "        print(\"[INFO] error downloading {}...skipping\".format(p))\n",
        "      \n",
        "      # loop over the image paths we just downloaded\n",
        "    for imagePath in paths.list_images(output):\n",
        "      # initialize if the image should be deleted or not\n",
        "      delete = False\n",
        "      # try to load the image\n",
        "      try:\n",
        "        image = cv2.imread(imagePath)\n",
        "        # if the image is `None` then we could not properly load it\n",
        "        # from disk, so delete it\n",
        "        if image is None:\n",
        "          delete = True\n",
        "      # if OpenCV cannot load the image then the image is likely\n",
        "      # corrupt so we should delete it\n",
        "      except:\n",
        "        print(\"Except\")\n",
        "        delete = True\n",
        "      # check to see if the image should be deleted\n",
        "      if delete:\n",
        "        print(\"[INFO] deleting {}\".format(imagePath))\n",
        "        os.remove(imagePath)"
      ],
      "execution_count": null,
      "outputs": []
    },
    {
      "cell_type": "code",
      "metadata": {
        "id": "6fmGnz3mXAEM"
      },
      "source": [
        "!mkdir impressionism"
      ],
      "execution_count": null,
      "outputs": []
    },
    {
      "cell_type": "code",
      "metadata": {
        "id": "gSZEKneACYIQ"
      },
      "source": [
        "downloadImages(\"urls (2).txt\", \"impressionism\")"
      ],
      "execution_count": null,
      "outputs": []
    },
    {
      "cell_type": "code",
      "metadata": {
        "id": "_mPQTYbYX2g4"
      },
      "source": [
        "!zip -r /content/impressionism.zip /content/impressionism"
      ],
      "execution_count": null,
      "outputs": []
    },
    {
      "cell_type": "code",
      "metadata": {
        "id": "FucBffQiX-I8",
        "colab": {
          "base_uri": "https://localhost:8080/",
          "height": 17
        },
        "outputId": "93e48df4-f1f2-41a7-eb4e-f1b1a974fb75"
      },
      "source": [
        "from google.colab import files\n",
        "files.download(\"/content/impressionism.zip\")"
      ],
      "execution_count": null,
      "outputs": [
        {
          "output_type": "display_data",
          "data": {
            "application/javascript": [
              "\n",
              "    async function download(id, filename, size) {\n",
              "      if (!google.colab.kernel.accessAllowed) {\n",
              "        return;\n",
              "      }\n",
              "      const div = document.createElement('div');\n",
              "      const label = document.createElement('label');\n",
              "      label.textContent = `Downloading \"${filename}\": `;\n",
              "      div.appendChild(label);\n",
              "      const progress = document.createElement('progress');\n",
              "      progress.max = size;\n",
              "      div.appendChild(progress);\n",
              "      document.body.appendChild(div);\n",
              "\n",
              "      const buffers = [];\n",
              "      let downloaded = 0;\n",
              "\n",
              "      const channel = await google.colab.kernel.comms.open(id);\n",
              "      // Send a message to notify the kernel that we're ready.\n",
              "      channel.send({})\n",
              "\n",
              "      for await (const message of channel.messages) {\n",
              "        // Send a message to notify the kernel that we're ready.\n",
              "        channel.send({})\n",
              "        if (message.buffers) {\n",
              "          for (const buffer of message.buffers) {\n",
              "            buffers.push(buffer);\n",
              "            downloaded += buffer.byteLength;\n",
              "            progress.value = downloaded;\n",
              "          }\n",
              "        }\n",
              "      }\n",
              "      const blob = new Blob(buffers, {type: 'application/binary'});\n",
              "      const a = document.createElement('a');\n",
              "      a.href = window.URL.createObjectURL(blob);\n",
              "      a.download = filename;\n",
              "      div.appendChild(a);\n",
              "      a.click();\n",
              "      div.remove();\n",
              "    }\n",
              "  "
            ],
            "text/plain": [
              "<IPython.core.display.Javascript object>"
            ]
          },
          "metadata": {
            "tags": []
          }
        },
        {
          "output_type": "display_data",
          "data": {
            "application/javascript": [
              "download(\"download_30ae4cba-8223-4377-9c9b-e493915a6c04\", \"impressionism.zip\", 210899274)"
            ],
            "text/plain": [
              "<IPython.core.display.Javascript object>"
            ]
          },
          "metadata": {
            "tags": []
          }
        }
      ]
    },
    {
      "cell_type": "code",
      "metadata": {
        "id": "Gw0FsM3eX7Pk"
      },
      "source": [
        "#!rm -rf images\n",
        "#!rm images.zip"
      ],
      "execution_count": null,
      "outputs": []
    },
    {
      "cell_type": "markdown",
      "metadata": {
        "id": "bHg5Q6D1nLDv"
      },
      "source": [
        "## Part 2: Loading & Preprocessing Images"
      ]
    },
    {
      "cell_type": "code",
      "metadata": {
        "colab": {
          "base_uri": "https://localhost:8080/"
        },
        "id": "pOiqNX_PlSxb",
        "outputId": "671674da-b51c-4aa1-c9fc-d3f9f5c28612"
      },
      "source": [
        "from google.colab import drive\n",
        "drive.mount('/content/drive')"
      ],
      "execution_count": null,
      "outputs": [
        {
          "output_type": "stream",
          "text": [
            "Mounted at /content/drive\n"
          ],
          "name": "stdout"
        }
      ]
    },
    {
      "cell_type": "markdown",
      "metadata": {
        "id": "RkvjjWuRy-Lg"
      },
      "source": [
        "In this section, I was able to read and resize the images to a common size of 80x80 pixels. The resized images are uploaded to Google Drive as a zip folder. Below are the steps I took to get there.\n",
        "\n",
        "--Catherine\n",
        "\n",
        "To load the images, I first uploaded the test_images.zip folder into Google Colab. Then, I ran a command to unzip the folder."
      ]
    },
    {
      "cell_type": "code",
      "metadata": {
        "colab": {
          "base_uri": "https://localhost:8080/"
        },
        "id": "nkTee9hjskpq",
        "outputId": "c6b75de9-b2f7-4e0c-9331-7f4d25fee7bd"
      },
      "source": [
        "!unzip test_images.zip"
      ],
      "execution_count": null,
      "outputs": [
        {
          "output_type": "stream",
          "text": [
            "unzip:  cannot find or open test_images.zip, test_images.zip.zip or test_images.zip.ZIP.\n"
          ],
          "name": "stdout"
        }
      ]
    },
    {
      "cell_type": "markdown",
      "metadata": {
        "id": "CtaTK9tRwAXW"
      },
      "source": [
        "Or, if using Google Drive, run the command below to unzip content. The path below is Wangruolan's:"
      ]
    },
    {
      "cell_type": "code",
      "metadata": {
        "colab": {
          "base_uri": "https://localhost:8080/"
        },
        "id": "y_VfaSS8tqr-",
        "outputId": "c89d83ab-feeb-4ef0-a3f9-068c00eb1b1e"
      },
      "source": [
        "!unzip -uq \"/content/drive/MyDrive/test_images.zip\" -d \"/content\""
      ],
      "execution_count": null,
      "outputs": [
        {
          "output_type": "stream",
          "text": [
            "unzip:  cannot find or open /content/drive/MyDrive/test_images.zip, /content/drive/MyDrive/test_images.zip.zip or /content/drive/MyDrive/test_images.zip.ZIP.\n"
          ],
          "name": "stdout"
        }
      ]
    },
    {
      "cell_type": "markdown",
      "metadata": {
        "id": "-g7Xsae5fbYM"
      },
      "source": [
        "The path below is Catherine's:"
      ]
    },
    {
      "cell_type": "code",
      "metadata": {
        "id": "SXWO0lkOebkY"
      },
      "source": [
        "!unzip -uq \"/content/drive/MyDrive/CIS419/CIS419 519 Final Project/test_images_2.zip\" -d \"/content\""
      ],
      "execution_count": null,
      "outputs": []
    },
    {
      "cell_type": "markdown",
      "metadata": {
        "id": "sZxWPEApzSvM"
      },
      "source": [
        "Test read one image from folder and put image data into an array."
      ]
    },
    {
      "cell_type": "code",
      "metadata": {
        "colab": {
          "base_uri": "https://localhost:8080/",
          "height": 156
        },
        "id": "2z6QryjZnXeJ",
        "outputId": "658acf00-e73c-40b6-cb40-73dfcf84007a"
      },
      "source": [
        "import numpy as np\n",
        "import matplotlib.pyplot as plt\n",
        "import os\n",
        "import cv2\n",
        "from tqdm import tqdm\n",
        "\n",
        "DATADIR = \"test_images_2\"\n",
        "\n",
        "CATEGORIES = [\"abstract\",\"fauvism\", \"impressionism\", \"pop\", \"renaissance_classicism\", \"surrealism\"]\n",
        "\n",
        "for category in CATEGORIES:\n",
        "    path = os.path.join(DATADIR,category)  # create path\n",
        "    for img in os.listdir(path):  # iterate over each image at path\n",
        "        img_array = cv2.imread(os.path.join(path,img))  # convert to array\n",
        "        plt.imshow(img_array)  # graph it\n",
        "        plt.show()  # display!\n",
        "\n",
        "        break  # we just want one for now so break\n",
        "    break  #...and one more!"
      ],
      "execution_count": null,
      "outputs": [
        {
          "output_type": "display_data",
          "data": {
            "image/png": "[encoded data removed]",
            "text/plain": [
              "<Figure size 432x288 with 1 Axes>"
            ]
          },
          "metadata": {
            "tags": [],
            "needs_background": "light"
          }
        }
      ]
    },
    {
      "cell_type": "markdown",
      "metadata": {
        "id": "16jr5ZPWzdrJ"
      },
      "source": [
        "Test convert the image to be size 80x80."
      ]
    },
    {
      "cell_type": "code",
      "metadata": {
        "colab": {
          "base_uri": "https://localhost:8080/",
          "height": 268
        },
        "id": "l2IkrYYcsja1",
        "outputId": "00b8bd3b-9b4d-45a5-8571-13a7a4f48148"
      },
      "source": [
        "# turned the variable below into a global variable at the top\n",
        "#IMG_SIZE = 80 # just reduce the size to 80 and we can modify later if necessary\n",
        "\n",
        "new_array = cv2.resize(img_array, (IMG_SIZE, IMG_SIZE))\n",
        "plt.imshow(new_array)\n",
        "plt.show()"
      ],
      "execution_count": null,
      "outputs": [
        {
          "output_type": "display_data",
          "data": {
            "image/png": "[encoded data removed]",
            "text/plain": [
              "<Figure size 432x288 with 1 Axes>"
            ]
          },
          "metadata": {
            "tags": [],
            "needs_background": "light"
          }
        }
      ]
    },
    {
      "cell_type": "markdown",
      "metadata": {
        "id": "l79LSV55FM1K"
      },
      "source": [
        "Set up folders to place resized images, and resize all images to be 220x220 pixels. At the end, zip and download the folder of resized images."
      ]
    },
    {
      "cell_type": "code",
      "metadata": {
        "id": "tIDHRCgm8Y6B"
      },
      "source": [
        "!mkdir test_images_2_resized\n",
        "!mkdir test_images_2_resized/abstract\n",
        "!mkdir test_images_2_resized/fauvism\n",
        "!mkdir test_images_2_resized/impressionism\n",
        "!mkdir test_images_2_resized/pop\n",
        "!mkdir test_images_2_resized/renaissance_classicism\n",
        "!mkdir test_images_2_resized/surrealism"
      ],
      "execution_count": null,
      "outputs": []
    },
    {
      "cell_type": "code",
      "metadata": {
        "colab": {
          "base_uri": "https://localhost:8080/"
        },
        "id": "oHms3Tq62nVJ",
        "outputId": "f1c28002-a327-45ce-a0b2-be7b188e0919"
      },
      "source": [
        "import numpy as np\n",
        "import matplotlib.pyplot as plt\n",
        "import os\n",
        "import cv2\n",
        "from tqdm import tqdm\n",
        "\n",
        "DATADIR = \"test_images_2\"\n",
        "\n",
        "CATEGORIES = [\"abstract\",\"fauvism\", \"impressionism\", \"pop\", \"renaissance_classicism\", \"surrealism\"]\n",
        "\n",
        "for category in CATEGORIES:\n",
        "    path = os.path.join(DATADIR,category)  # create path\n",
        "    for img in tqdm(os.listdir(path)):  # iterate over each image at path\n",
        "        filepath = os.path.join(path,img)\n",
        "        if filepath.endswith(\".jpg\"):\n",
        "            try:\n",
        "                img_array = cv2.imread(filepath)  # convert to array\n",
        "                new_array = cv2.resize(img_array, (IMG_SIZE, IMG_SIZE))\n",
        "                cv2.imwrite(os.path.join('test_images_2_resized', category, img), new_array)\n",
        "            except OSError as e:\n",
        "                print(\"OSErrroBad img most likely\", e, os.path.join(path,img))\n",
        "            except Exception as e:\n",
        "                print(\"general exception\", e, os.path.join(path,img))\n",
        "            "
      ],
      "execution_count": null,
      "outputs": [
        {
          "output_type": "stream",
          "text": [
            "100%|██████████| 606/606 [00:16<00:00, 37.17it/s]\n",
            "100%|██████████| 500/500 [00:02<00:00, 174.69it/s]\n",
            "100%|██████████| 633/633 [00:12<00:00, 50.27it/s]\n",
            "100%|██████████| 649/649 [00:11<00:00, 54.95it/s]\n",
            "100%|██████████| 491/491 [00:10<00:00, 48.69it/s]\n",
            "100%|██████████| 649/649 [00:10<00:00, 60.24it/s]\n"
          ],
          "name": "stderr"
        }
      ]
    },
    {
      "cell_type": "code",
      "metadata": {
        "id": "jAPl7Wrf9Nhf"
      },
      "source": [
        "!zip -r test_images_2_resized.zip test_images_2_resized/"
      ],
      "execution_count": null,
      "outputs": []
    },
    {
      "cell_type": "code",
      "metadata": {
        "colab": {
          "base_uri": "https://localhost:8080/",
          "height": 17
        },
        "id": "XFB3sMvx9U0L",
        "outputId": "fb71fd26-5997-47d3-fbb0-68e4b287dd18"
      },
      "source": [
        "from google.colab import files\n",
        "files.download(\"test_images_2_resized.zip\")"
      ],
      "execution_count": null,
      "outputs": [
        {
          "output_type": "display_data",
          "data": {
            "application/javascript": [
              "\n",
              "    async function download(id, filename, size) {\n",
              "      if (!google.colab.kernel.accessAllowed) {\n",
              "        return;\n",
              "      }\n",
              "      const div = document.createElement('div');\n",
              "      const label = document.createElement('label');\n",
              "      label.textContent = `Downloading \"${filename}\": `;\n",
              "      div.appendChild(label);\n",
              "      const progress = document.createElement('progress');\n",
              "      progress.max = size;\n",
              "      div.appendChild(progress);\n",
              "      document.body.appendChild(div);\n",
              "\n",
              "      const buffers = [];\n",
              "      let downloaded = 0;\n",
              "\n",
              "      const channel = await google.colab.kernel.comms.open(id);\n",
              "      // Send a message to notify the kernel that we're ready.\n",
              "      channel.send({})\n",
              "\n",
              "      for await (const message of channel.messages) {\n",
              "        // Send a message to notify the kernel that we're ready.\n",
              "        channel.send({})\n",
              "        if (message.buffers) {\n",
              "          for (const buffer of message.buffers) {\n",
              "            buffers.push(buffer);\n",
              "            downloaded += buffer.byteLength;\n",
              "            progress.value = downloaded;\n",
              "          }\n",
              "        }\n",
              "      }\n",
              "      const blob = new Blob(buffers, {type: 'application/binary'});\n",
              "      const a = document.createElement('a');\n",
              "      a.href = window.URL.createObjectURL(blob);\n",
              "      a.download = filename;\n",
              "      div.appendChild(a);\n",
              "      a.click();\n",
              "      div.remove();\n",
              "    }\n",
              "  "
            ],
            "text/plain": [
              "<IPython.core.display.Javascript object>"
            ]
          },
          "metadata": {
            "tags": []
          }
        },
        {
          "output_type": "display_data",
          "data": {
            "application/javascript": [
              "download(\"download_ee7067a7-bb46-4162-ba8c-8eeee3a1900b\", \"test_images_2_resized.zip\", 20520899)"
            ],
            "text/plain": [
              "<IPython.core.display.Javascript object>"
            ]
          },
          "metadata": {
            "tags": []
          }
        }
      ]
    },
    {
      "cell_type": "markdown",
      "metadata": {
        "id": "IDPjjZnwH2ah"
      },
      "source": [
        "## Part 3: Defining training dataset"
      ]
    },
    {
      "cell_type": "markdown",
      "metadata": {
        "id": "8eUEI2VcDWfI"
      },
      "source": [
        "Split the data into training and validation set, where train-80% and validation-20%.\n",
        "\n",
        "Update: this part can be skipped if we use another method (and is contained in part 4)"
      ]
    },
    {
      "cell_type": "code",
      "metadata": {
        "colab": {
          "base_uri": "https://localhost:8080/"
        },
        "id": "_dFOV8B1Bspc",
        "outputId": "1bfe7b55-142d-41f8-cb0c-03657c561414"
      },
      "source": [
        "!pip install split-folders"
      ],
      "execution_count": null,
      "outputs": [
        {
          "output_type": "stream",
          "text": [
            "Collecting split-folders\n",
            "  Downloading https://files.pythonhosted.org/packages/b8/5f/3c2b2f7ea5e047c8cdc3bb00ae582c5438fcdbbedcc23b3cc1c2c7aae642/split_folders-0.4.3-py3-none-any.whl\n",
            "Installing collected packages: split-folders\n",
            "Successfully installed split-folders-0.4.3\n"
          ],
          "name": "stdout"
        }
      ]
    },
    {
      "cell_type": "code",
      "metadata": {
        "colab": {
          "base_uri": "https://localhost:8080/"
        },
        "id": "AJdq9-U3COcG",
        "outputId": "de917529-3107-4060-a13e-30d4c3627e96"
      },
      "source": [
        "import splitfolders\n",
        "splitfolders.ratio('test_images_resized', output=\"train_val\", seed=1337, ratio=(.8, .2)) "
      ],
      "execution_count": null,
      "outputs": [
        {
          "output_type": "stream",
          "text": [
            "Copying files: 1506 files [00:00, 7109.35 files/s]\n"
          ],
          "name": "stderr"
        }
      ]
    },
    {
      "cell_type": "markdown",
      "metadata": {
        "id": "thIKgZolLWeQ"
      },
      "source": [
        "## Part 4: Labeling the data"
      ]
    },
    {
      "cell_type": "markdown",
      "metadata": {
        "id": "m7lcd8TKaQ4k"
      },
      "source": [
        "I convert the images to csv with labels besed on the name of their files. Here \"abstract\"-\"0\"; \"classicism\"-\"1\"; \"fauvism\"-\"2\"; \"impressionism\"-\"3\"; \"pop\"-\"4\"; \"renaissance\"-\"5\".\n",
        "\n",
        "Basically, this step should before the splitting. However, the RAM is not large enough for converting all the images together. So I work on train and val data separately.\n",
        "\n",
        "--Wangruolan"
      ]
    },
    {
      "cell_type": "code",
      "metadata": {
        "id": "bYzQ5t21LjRF"
      },
      "source": [
        "import numpy as np\n",
        "import pandas as pd\n",
        "import os\n",
        "import imageio\n",
        "import glob\n",
        "import pathlib\n",
        "v = []\n",
        "for i,files in enumerate(pathlib.Path('./train_val/train').glob('*/**/*.jpg')):\n",
        "    im = imageio.imread(files.as_posix())\n",
        "    value = im.flatten() # flatten in 1 dimension(row major)\n",
        "    if files.parent.name == \"abstract\":\n",
        "      label = 0\n",
        "    elif files.parent.name == \"classicism\":\n",
        "      label = 1\n",
        "    elif files.parent.name == \"fauvism\":\n",
        "      label = 2\n",
        "    elif files.parent.name == \"impressionism\":\n",
        "      label = 3\n",
        "    elif files.parent.name == \"pop\":\n",
        "      label = 4\n",
        "    elif files.parent.name == \"renaissance\":\n",
        "      label = 5\n",
        "    value = np.hstack((int(label),value)) # label name is the first column\n",
        "    v.append(value)\n",
        "df = pd.DataFrame(v)\n",
        "df = df.sample(frac=1)\n",
        "df.to_csv('train.csv',header=False,index=False)"
      ],
      "execution_count": null,
      "outputs": []
    },
    {
      "cell_type": "code",
      "metadata": {
        "id": "SF9sT8wfdZt6"
      },
      "source": [
        "import numpy as np\n",
        "import pandas as pd\n",
        "import os\n",
        "import imageio\n",
        "import glob\n",
        "import pathlib\n",
        "v = []\n",
        "for i,files in enumerate(pathlib.Path('./train_val/val').glob('*/**/*.jpg')):\n",
        "    im = imageio.imread(files.as_posix())\n",
        "    value = im.flatten()\n",
        "    if files.parent.name == \"abstract\":\n",
        "      label = 0\n",
        "    elif files.parent.name == \"classicism\":\n",
        "      label = 1\n",
        "    elif files.parent.name == \"fauvism\":\n",
        "      label = 2\n",
        "    elif files.parent.name == \"impressionism\":\n",
        "      label = 3\n",
        "    elif files.parent.name == \"pop\":\n",
        "      label = 4\n",
        "    elif files.parent.name == \"renaissance\":\n",
        "      label = 5\n",
        "    value = np.hstack((int(label),value))\n",
        "    v.append(value)\n",
        "df = pd.DataFrame(v)\n",
        "df = df.sample(frac=1)\n",
        "df.to_csv('val.csv',header=False,index=False)"
      ],
      "execution_count": null,
      "outputs": []
    },
    {
      "cell_type": "markdown",
      "metadata": {
        "id": "bLJsv2L0oLxQ"
      },
      "source": [
        "(these csv don't have title for each column now...)"
      ]
    },
    {
      "cell_type": "markdown",
      "metadata": {
        "id": "GJEjB0qq8rCh"
      },
      "source": [
        "Here construct training data without csv (using the method shared by Catherine)"
      ]
    },
    {
      "cell_type": "code",
      "metadata": {
        "colab": {
          "base_uri": "https://localhost:8080/"
        },
        "id": "xnPaJZtE9XJs",
        "outputId": "71f0490c-efc2-479d-da5e-9b2d41a84caa"
      },
      "source": [
        "import numpy as np\n",
        "import matplotlib.pyplot as plt\n",
        "import os\n",
        "import cv2\n",
        "from tqdm import tqdm\n",
        "\n",
        "training_data = []\n",
        "data_resize = []\n",
        "\n",
        "DATADIR = \"test_images_2_resized\"\n",
        "\n",
        "CATEGORIES = [\"abstract\",\"fauvism\", \"impressionism\", \"pop\", \"renaissance_classicism\", \"surrealism\"]\n",
        "\n",
        "def create_training_data():\n",
        "    for category in CATEGORIES:\n",
        "\n",
        "        path = os.path.join(DATADIR,category)  # create path to dogs and cats\n",
        "        class_num = CATEGORIES.index(category)  # get the classification\n",
        "        # label = [\"abstract\"-0, \"classicism\"-1, \"fauvism\"-2, \"impressionism\"-3, \"pop\"-4, \"renaissance\"-5]\n",
        "\n",
        "        for img in tqdm(os.listdir(path)):  # iterate over each image at path\n",
        "            filepath = os.path.join(path,img)\n",
        "            try:\n",
        "              img_array = cv2.imread(filepath)  # convert to array                \n",
        "              #new_array = cv2.resize(img_array, (IMG_SIZE, IMG_SIZE))  # resize to normalize data size\n",
        "              training_data.append([img_array, class_num])  # add this to our training_data\n",
        "            #except Exception as e:  # in the interest in keeping the output clean...\n",
        "            #    pass\n",
        "            except OSError as e:                \n",
        "              print(\"OSErrroBad img most likely\", e, os.path.join(path,img))\n",
        "            except Exception as e:\n",
        "              print(\"general exception\", e, os.path.join(path,img))          \n",
        "\n",
        "create_training_data()\n",
        "\n",
        "print(len(training_data))"
      ],
      "execution_count": null,
      "outputs": [
        {
          "output_type": "stream",
          "text": [
            "100%|██████████| 606/606 [00:00<00:00, 3844.00it/s]\n",
            "100%|██████████| 500/500 [00:00<00:00, 4007.94it/s]\n",
            "100%|██████████| 633/633 [00:00<00:00, 4189.29it/s]\n",
            "100%|██████████| 649/649 [00:00<00:00, 4137.23it/s]\n",
            "100%|██████████| 481/481 [00:00<00:00, 3711.63it/s]\n",
            "100%|██████████| 649/649 [00:00<00:00, 4137.29it/s]"
          ],
          "name": "stderr"
        },
        {
          "output_type": "stream",
          "text": [
            "3518\n"
          ],
          "name": "stdout"
        },
        {
          "output_type": "stream",
          "text": [
            "\n"
          ],
          "name": "stderr"
        }
      ]
    },
    {
      "cell_type": "markdown",
      "metadata": {
        "id": "6mGTae5BBVGE"
      },
      "source": [
        "The data need to be balanced (But I failed here.)"
      ]
    },
    {
      "cell_type": "code",
      "metadata": {
        "id": "L2eC4NleB0av"
      },
      "source": [
        "import random\n",
        "\n",
        "random.shuffle(training_data) # shuffle the data"
      ],
      "execution_count": null,
      "outputs": []
    },
    {
      "cell_type": "code",
      "metadata": {
        "colab": {
          "base_uri": "https://localhost:8080/"
        },
        "id": "EWY5AGofB8i2",
        "outputId": "e600bf8f-bfdf-4649-9051-4673e3e2c7ac"
      },
      "source": [
        "# test how the data mixed\n",
        "\n",
        "for sample in training_data[:20]:\n",
        "    print(sample[1])"
      ],
      "execution_count": null,
      "outputs": [
        {
          "output_type": "stream",
          "text": [
            "5\n",
            "2\n",
            "0\n",
            "3\n",
            "1\n",
            "0\n",
            "4\n",
            "2\n",
            "0\n",
            "2\n",
            "2\n",
            "2\n",
            "1\n",
            "3\n",
            "4\n",
            "5\n",
            "5\n",
            "1\n",
            "3\n",
            "0\n"
          ],
          "name": "stdout"
        }
      ]
    },
    {
      "cell_type": "code",
      "metadata": {
        "id": "syJuvCpvCRJm"
      },
      "source": [
        "import numpy as np\n",
        "from sklearn.model_selection import train_test_split\n",
        "\n",
        "X = []\n",
        "y = []\n",
        "\n",
        "for features,label in training_data:\n",
        "    X.append(features)\n",
        "    y.append(label)\n",
        "\n",
        "#print(X[0].reshape((-1, IMG_SIZE, IMG_SIZE,3)))\n",
        "\n",
        "X = np.array(X).reshape((-1, IMG_SIZE, IMG_SIZE,3))\n",
        "\n",
        "#print(np.shape(X))\n",
        "\n",
        "# separate the data into training and validation sets.\n",
        "X_train, X_test, y_train, y_test = train_test_split(X, y, test_size=0.2, random_state=42)"
      ],
      "execution_count": null,
      "outputs": []
    },
    {
      "cell_type": "markdown",
      "metadata": {
        "id": "GZbXWG3LDWyL"
      },
      "source": [
        "Save and load the data. Here X_train is the train_image, X_test is the test_image; y_train is the train_label and y_test is the test_label."
      ]
    },
    {
      "cell_type": "code",
      "metadata": {
        "id": "jXN5EwPgC4vG"
      },
      "source": [
        "import pickle\n",
        "\n",
        "pickle_out = open(\"X_train_2.pickle\",\"wb\")\n",
        "pickle.dump(X_train, pickle_out)\n",
        "pickle_out.close()\n",
        "\n",
        "pickle_out = open(\"X_test_2.pickle\",\"wb\")\n",
        "pickle.dump(X_test, pickle_out)\n",
        "pickle_out.close()\n",
        "\n",
        "pickle_out = open(\"y_train_2.pickle\",\"wb\")\n",
        "pickle.dump(y_train, pickle_out)\n",
        "pickle_out.close()\n",
        "\n",
        "pickle_out = open(\"y_test_2.pickle\",\"wb\")\n",
        "pickle.dump(y_test, pickle_out)\n",
        "pickle_out.close()"
      ],
      "execution_count": null,
      "outputs": []
    },
    {
      "cell_type": "code",
      "metadata": {
        "colab": {
          "base_uri": "https://localhost:8080/",
          "height": 17
        },
        "id": "MtKl1iqAvVRy",
        "outputId": "6e6c5ad1-3bb1-4f82-b74f-343931968a1c"
      },
      "source": [
        "from google.colab import files\n",
        "files.download(\"X_test_2.pickle\")\n",
        "files.download(\"X_train_2.pickle\")\n",
        "files.download(\"y_test_2.pickle\")\n",
        "files.download(\"y_train_2.pickle\")"
      ],
      "execution_count": null,
      "outputs": [
        {
          "output_type": "display_data",
          "data": {
            "application/javascript": [
              "\n",
              "    async function download(id, filename, size) {\n",
              "      if (!google.colab.kernel.accessAllowed) {\n",
              "        return;\n",
              "      }\n",
              "      const div = document.createElement('div');\n",
              "      const label = document.createElement('label');\n",
              "      label.textContent = `Downloading \"${filename}\": `;\n",
              "      div.appendChild(label);\n",
              "      const progress = document.createElement('progress');\n",
              "      progress.max = size;\n",
              "      div.appendChild(progress);\n",
              "      document.body.appendChild(div);\n",
              "\n",
              "      const buffers = [];\n",
              "      let downloaded = 0;\n",
              "\n",
              "      const channel = await google.colab.kernel.comms.open(id);\n",
              "      // Send a message to notify the kernel that we're ready.\n",
              "      channel.send({})\n",
              "\n",
              "      for await (const message of channel.messages) {\n",
              "        // Send a message to notify the kernel that we're ready.\n",
              "        channel.send({})\n",
              "        if (message.buffers) {\n",
              "          for (const buffer of message.buffers) {\n",
              "            buffers.push(buffer);\n",
              "            downloaded += buffer.byteLength;\n",
              "            progress.value = downloaded;\n",
              "          }\n",
              "        }\n",
              "      }\n",
              "      const blob = new Blob(buffers, {type: 'application/binary'});\n",
              "      const a = document.createElement('a');\n",
              "      a.href = window.URL.createObjectURL(blob);\n",
              "      a.download = filename;\n",
              "      div.appendChild(a);\n",
              "      a.click();\n",
              "      div.remove();\n",
              "    }\n",
              "  "
            ],
            "text/plain": [
              "<IPython.core.display.Javascript object>"
            ]
          },
          "metadata": {
            "tags": []
          }
        },
        {
          "output_type": "display_data",
          "data": {
            "application/javascript": [
              "download(\"download_78313264-872d-41fe-8758-3e08bf89c38e\", \"X_test.pickle\", 13516964)"
            ],
            "text/plain": [
              "<IPython.core.display.Javascript object>"
            ]
          },
          "metadata": {
            "tags": []
          }
        },
        {
          "output_type": "display_data",
          "data": {
            "application/javascript": [
              "\n",
              "    async function download(id, filename, size) {\n",
              "      if (!google.colab.kernel.accessAllowed) {\n",
              "        return;\n",
              "      }\n",
              "      const div = document.createElement('div');\n",
              "      const label = document.createElement('label');\n",
              "      label.textContent = `Downloading \"${filename}\": `;\n",
              "      div.appendChild(label);\n",
              "      const progress = document.createElement('progress');\n",
              "      progress.max = size;\n",
              "      div.appendChild(progress);\n",
              "      document.body.appendChild(div);\n",
              "\n",
              "      const buffers = [];\n",
              "      let downloaded = 0;\n",
              "\n",
              "      const channel = await google.colab.kernel.comms.open(id);\n",
              "      // Send a message to notify the kernel that we're ready.\n",
              "      channel.send({})\n",
              "\n",
              "      for await (const message of channel.messages) {\n",
              "        // Send a message to notify the kernel that we're ready.\n",
              "        channel.send({})\n",
              "        if (message.buffers) {\n",
              "          for (const buffer of message.buffers) {\n",
              "            buffers.push(buffer);\n",
              "            downloaded += buffer.byteLength;\n",
              "            progress.value = downloaded;\n",
              "          }\n",
              "        }\n",
              "      }\n",
              "      const blob = new Blob(buffers, {type: 'application/binary'});\n",
              "      const a = document.createElement('a');\n",
              "      a.href = window.URL.createObjectURL(blob);\n",
              "      a.download = filename;\n",
              "      div.appendChild(a);\n",
              "      a.click();\n",
              "      div.remove();\n",
              "    }\n",
              "  "
            ],
            "text/plain": [
              "<IPython.core.display.Javascript object>"
            ]
          },
          "metadata": {
            "tags": []
          }
        },
        {
          "output_type": "display_data",
          "data": {
            "application/javascript": [
              "download(\"download_b3052088-b6a0-43ec-b597-1027e177a26e\", \"X_train.pickle\", 54028964)"
            ],
            "text/plain": [
              "<IPython.core.display.Javascript object>"
            ]
          },
          "metadata": {
            "tags": []
          }
        },
        {
          "output_type": "display_data",
          "data": {
            "application/javascript": [
              "\n",
              "    async function download(id, filename, size) {\n",
              "      if (!google.colab.kernel.accessAllowed) {\n",
              "        return;\n",
              "      }\n",
              "      const div = document.createElement('div');\n",
              "      const label = document.createElement('label');\n",
              "      label.textContent = `Downloading \"${filename}\": `;\n",
              "      div.appendChild(label);\n",
              "      const progress = document.createElement('progress');\n",
              "      progress.max = size;\n",
              "      div.appendChild(progress);\n",
              "      document.body.appendChild(div);\n",
              "\n",
              "      const buffers = [];\n",
              "      let downloaded = 0;\n",
              "\n",
              "      const channel = await google.colab.kernel.comms.open(id);\n",
              "      // Send a message to notify the kernel that we're ready.\n",
              "      channel.send({})\n",
              "\n",
              "      for await (const message of channel.messages) {\n",
              "        // Send a message to notify the kernel that we're ready.\n",
              "        channel.send({})\n",
              "        if (message.buffers) {\n",
              "          for (const buffer of message.buffers) {\n",
              "            buffers.push(buffer);\n",
              "            downloaded += buffer.byteLength;\n",
              "            progress.value = downloaded;\n",
              "          }\n",
              "        }\n",
              "      }\n",
              "      const blob = new Blob(buffers, {type: 'application/binary'});\n",
              "      const a = document.createElement('a');\n",
              "      a.href = window.URL.createObjectURL(blob);\n",
              "      a.download = filename;\n",
              "      div.appendChild(a);\n",
              "      a.click();\n",
              "      div.remove();\n",
              "    }\n",
              "  "
            ],
            "text/plain": [
              "<IPython.core.display.Javascript object>"
            ]
          },
          "metadata": {
            "tags": []
          }
        },
        {
          "output_type": "display_data",
          "data": {
            "application/javascript": [
              "download(\"download_f014c05d-b7af-4921-9506-fa5403f9170d\", \"y_test.pickle\", 1416)"
            ],
            "text/plain": [
              "<IPython.core.display.Javascript object>"
            ]
          },
          "metadata": {
            "tags": []
          }
        },
        {
          "output_type": "display_data",
          "data": {
            "application/javascript": [
              "\n",
              "    async function download(id, filename, size) {\n",
              "      if (!google.colab.kernel.accessAllowed) {\n",
              "        return;\n",
              "      }\n",
              "      const div = document.createElement('div');\n",
              "      const label = document.createElement('label');\n",
              "      label.textContent = `Downloading \"${filename}\": `;\n",
              "      div.appendChild(label);\n",
              "      const progress = document.createElement('progress');\n",
              "      progress.max = size;\n",
              "      div.appendChild(progress);\n",
              "      document.body.appendChild(div);\n",
              "\n",
              "      const buffers = [];\n",
              "      let downloaded = 0;\n",
              "\n",
              "      const channel = await google.colab.kernel.comms.open(id);\n",
              "      // Send a message to notify the kernel that we're ready.\n",
              "      channel.send({})\n",
              "\n",
              "      for await (const message of channel.messages) {\n",
              "        // Send a message to notify the kernel that we're ready.\n",
              "        channel.send({})\n",
              "        if (message.buffers) {\n",
              "          for (const buffer of message.buffers) {\n",
              "            buffers.push(buffer);\n",
              "            downloaded += buffer.byteLength;\n",
              "            progress.value = downloaded;\n",
              "          }\n",
              "        }\n",
              "      }\n",
              "      const blob = new Blob(buffers, {type: 'application/binary'});\n",
              "      const a = document.createElement('a');\n",
              "      a.href = window.URL.createObjectURL(blob);\n",
              "      a.download = filename;\n",
              "      div.appendChild(a);\n",
              "      a.click();\n",
              "      div.remove();\n",
              "    }\n",
              "  "
            ],
            "text/plain": [
              "<IPython.core.display.Javascript object>"
            ]
          },
          "metadata": {
            "tags": []
          }
        },
        {
          "output_type": "display_data",
          "data": {
            "application/javascript": [
              "download(\"download_45ee603b-4913-4707-a11b-94db2d860286\", \"y_train.pickle\", 5640)"
            ],
            "text/plain": [
              "<IPython.core.display.Javascript object>"
            ]
          },
          "metadata": {
            "tags": []
          }
        }
      ]
    },
    {
      "cell_type": "markdown",
      "metadata": {
        "id": "e2Kh36UYuGWN"
      },
      "source": [
        "## Part 5: Set Up Data for CNN"
      ]
    },
    {
      "cell_type": "markdown",
      "metadata": {
        "id": "LSHNCB2NkFzY"
      },
      "source": [
        "If skipping Part 1-4, run the code below to mount Google Drive.\n"
      ]
    },
    {
      "cell_type": "code",
      "metadata": {
        "colab": {
          "base_uri": "https://localhost:8080/"
        },
        "id": "9H06xbthkVlo",
        "outputId": "d4ce1d29-745a-44fb-8bf0-80dc6b0c424b"
      },
      "source": [
        "from google.colab import drive\n",
        "drive.mount('/content/drive')"
      ],
      "execution_count": null,
      "outputs": [
        {
          "output_type": "stream",
          "text": [
            "Mounted at /content/drive\n"
          ],
          "name": "stdout"
        }
      ]
    },
    {
      "cell_type": "markdown",
      "metadata": {
        "id": "H8yvgjh3kh8h"
      },
      "source": [
        "Then navigate to the files tab on the left side and you should see a \"drive\" folder. Go into the folder and find the shared \"CIS419/519 Final Project\" folder, right click to copy the path of the folder, then store in a variable below."
      ]
    },
    {
      "cell_type": "markdown",
      "metadata": {
        "id": "NYkzUOMJF3AH"
      },
      "source": [
        "Below is Mindy's path："
      ]
    },
    {
      "cell_type": "code",
      "metadata": {
        "id": "6eSZ8AwUlgZE"
      },
      "source": [
        "PATH = \"/content/drive/MyDrive/CIS419 519 Final Project\""
      ],
      "execution_count": null,
      "outputs": []
    },
    {
      "cell_type": "markdown",
      "metadata": {
        "id": "X-yjezcVzL1P"
      },
      "source": [
        "Below is Catherine's path:"
      ]
    },
    {
      "cell_type": "code",
      "metadata": {
        "id": "keyEYk1JzKFI"
      },
      "source": [
        "PATH = \"/content/drive/MyDrive/CIS419/CIS419 519 Final Project\""
      ],
      "execution_count": null,
      "outputs": []
    },
    {
      "cell_type": "markdown",
      "metadata": {
        "id": "JLUbXIUlqL3p"
      },
      "source": [
        "Below is Wangruolan's path:"
      ]
    },
    {
      "cell_type": "code",
      "metadata": {
        "id": "zRQdYoNnqS62"
      },
      "source": [
        "PATH = \"/content/drive/MyDrive\""
      ],
      "execution_count": null,
      "outputs": []
    },
    {
      "cell_type": "markdown",
      "metadata": {
        "id": "ZyMdZdkp1fls"
      },
      "source": [
        "First, load the pickle files in."
      ]
    },
    {
      "cell_type": "code",
      "metadata": {
        "id": "31qcvlCMC7zU"
      },
      "source": [
        "import pickle\n",
        "\n",
        "pickle_in = open(PATH + \"/X_train_2.pickle\",\"rb\")\n",
        "X_train = pickle.load(pickle_in)\n",
        "\n",
        "pickle_in = open(PATH + \"/X_test_2.pickle\",\"rb\")\n",
        "X_test = pickle.load(pickle_in)\n",
        "\n",
        "pickle_in = open(PATH + \"/y_train_2.pickle\",\"rb\")\n",
        "y_train = pickle.load(pickle_in)\n",
        "\n",
        "pickle_in = open(PATH + \"/y_test_2.pickle\",\"rb\")\n",
        "y_test = pickle.load(pickle_in)"
      ],
      "execution_count": null,
      "outputs": []
    },
    {
      "cell_type": "markdown",
      "metadata": {
        "id": "KpDoCNVDH1EK"
      },
      "source": [
        "## Part 6: CNN Utility"
      ]
    },
    {
      "cell_type": "code",
      "metadata": {
        "id": "ICR651Uh1dfx"
      },
      "source": [
        "import torch\n",
        "import torchvision\n",
        "\n",
        "import torch.utils.tensorboard as tb\n",
        "\n",
        "from PIL import Image\n",
        "\n",
        "from torch.utils.data import Dataset, DataLoader\n",
        "from torchvision import transforms\n",
        "\n",
        "import matplotlib.pyplot as plt\n",
        "import pandas as pd\n",
        "import numpy as np \n",
        "import random \n",
        "import os, math\n",
        "\n",
        "from sklearn.metrics import confusion_matrix\n",
        "from sklearn.preprocessing import LabelEncoder"
      ],
      "execution_count": null,
      "outputs": []
    },
    {
      "cell_type": "code",
      "metadata": {
        "id": "6tg5GR__PfMN"
      },
      "source": [
        "# DO NOT TOUCH THIS CELL!\n",
        "def init_weights(net):\n",
        "    \"\"\"\n",
        "    Usage: net = Model()\n",
        "           net.apply(init_weights)\n",
        "    \"\"\"\n",
        "    for m in net.modules():\n",
        "        if isinstance(m, nn.Conv2d):\n",
        "            nn.init.kaiming_normal_(m.weight)\n",
        "        elif isinstance(m, nn.BatchNorm2d):\n",
        "            nn.init.ones_(m.weight)\n",
        "            nn.init.zeros_(m.bias)\n",
        "        elif isinstance(m, nn.Linear):\n",
        "            nn.init.xavier_uniform_(m.weight)\n",
        "#             if m.bias is not None:\n",
        "#                 stdv = 1. / math.sqrt(m.weight.size(1))\n",
        "#                 nn.init.uniform_(m.bias, -stdv, stdv)\n"
      ],
      "execution_count": null,
      "outputs": []
    },
    {
      "cell_type": "code",
      "metadata": {
        "id": "vitPn5IHp5OM"
      },
      "source": [
        "# DO NOT TOUCH THIS CELL!\n",
        "import torch\n",
        "import torch.nn as nn\n",
        "from torch.autograd import Variable\n",
        "\n",
        "from collections import OrderedDict\n",
        "import numpy as np\n",
        "\n",
        "\n",
        "def summary(model, input_size, batch_size=-1, device=torch.device('cpu'), dtypes=None, verbose=True):\n",
        "    result, params_info = summary_string(\n",
        "        model, input_size, batch_size, device, dtypes)\n",
        "    if verbose:\n",
        "        print(result)\n",
        "\n",
        "    return params_info\n",
        "\n",
        "\n",
        "def summary_string(model, input_size, batch_size=-1, device=torch.device('cpu'), dtypes=None):\n",
        "    if dtypes == None:\n",
        "        dtypes = [torch.FloatTensor]*len(input_size)\n",
        "\n",
        "    summary_str = ''\n",
        "\n",
        "    def register_hook(module):\n",
        "        def hook(module, input, output):\n",
        "            class_name = str(module.__class__).split(\".\")[-1].split(\"'\")[0]\n",
        "            module_idx = len(summary)\n",
        "\n",
        "            m_key = \"%s-%i\" % (class_name, module_idx + 1)\n",
        "            summary[m_key] = OrderedDict()\n",
        "            summary[m_key][\"input_shape\"] = list(input[0].size())\n",
        "            summary[m_key][\"input_shape\"][0] = batch_size\n",
        "            if isinstance(output, (list, tuple)):\n",
        "                summary[m_key][\"output_shape\"] = [\n",
        "                    [-1] + list(o.size())[1:] for o in output\n",
        "                ]\n",
        "            else:\n",
        "                summary[m_key][\"output_shape\"] = list(output.size())\n",
        "                summary[m_key][\"output_shape\"][0] = batch_size\n",
        "\n",
        "            params = 0\n",
        "            if hasattr(module, \"weight\") and hasattr(module.weight, \"size\"):\n",
        "                params += torch.prod(torch.LongTensor(list(module.weight.size())))\n",
        "                summary[m_key][\"trainable\"] = module.weight.requires_grad\n",
        "            if hasattr(module, \"bias\") and hasattr(module.bias, \"size\"):\n",
        "                params += torch.prod(torch.LongTensor(list(module.bias.size())))\n",
        "            summary[m_key][\"nb_params\"] = params\n",
        "            \n",
        "\n",
        "        if (\n",
        "            not isinstance(module, nn.Sequential)\n",
        "            and not isinstance(module, nn.ModuleList)\n",
        "        ):\n",
        "            hooks.append(module.register_forward_hook(hook))\n",
        "\n",
        "    # multiple inputs to the network\n",
        "    if isinstance(input_size, tuple):\n",
        "        input_size = [input_size]\n",
        "\n",
        "    # batch_size of 2 for batchnorm\n",
        "    x = [torch.rand(2, *in_size).type(dtype).to(device=device)\n",
        "         for in_size, dtype in zip(input_size, dtypes)]\n",
        "\n",
        "    # create properties\n",
        "    summary = OrderedDict()\n",
        "    hooks = []\n",
        "\n",
        "    # register hook\n",
        "    model.apply(register_hook)\n",
        "\n",
        "    # make a forward pass\n",
        "    model(*x)\n",
        "\n",
        "    # remove these hooks\n",
        "    for h in hooks:\n",
        "        h.remove()\n",
        "\n",
        "    summary_str += \"----------------------------------------------------------------\" + \"\\n\"\n",
        "    line_new = \"{:>20}  {:>25} {:>15}\".format(\n",
        "        \"Layer (type)\", \"Output Shape\", \"Param #\")\n",
        "    summary_str += line_new + \"\\n\"\n",
        "    summary_str += \"================================================================\" + \"\\n\"\n",
        "    total_params = 0\n",
        "    total_output = 0\n",
        "    trainable_params = 0\n",
        "    total_conv2d = 0\n",
        "    total_linear = 0 \n",
        "    for layer in summary:\n",
        "        if 'conv2d' in layer.lower():\n",
        "            total_conv2d += 1\n",
        "        if 'linear' in layer.lower():\n",
        "            total_linear += 1 \n",
        "\n",
        "        # input_shape, output_shape, trainable, nb_params\n",
        "        line_new = \"{:>20}  {:>25} {:>15}\".format(\n",
        "            layer,\n",
        "            str(summary[layer][\"output_shape\"]),\n",
        "            \"{0:,}\".format(summary[layer][\"nb_params\"]),\n",
        "        )\n",
        "        total_params += summary[layer][\"nb_params\"]\n",
        "\n",
        "        total_output += np.prod(summary[layer][\"output_shape\"])\n",
        "        if \"trainable\" in summary[layer]:\n",
        "            if summary[layer][\"trainable\"] == True:\n",
        "                trainable_params += summary[layer][\"nb_params\"]\n",
        "        summary_str += line_new + \"\\n\"\n",
        "\n",
        "    # assume 4 bytes/number (float on cuda).\n",
        "    total_input_size = abs(np.prod(sum(input_size, ()))\n",
        "                           * batch_size * 4. / (1024 ** 2.))\n",
        "    total_output_size = abs(2. * total_output * 4. /\n",
        "                            (1024 ** 2.))  # x2 for gradients\n",
        "    total_params_size = abs(total_params * 4. / (1024 ** 2.))\n",
        "    total_size = total_params_size + total_output_size + total_input_size\n",
        "\n",
        "    summary_str += \"================================================================\" + \"\\n\"\n",
        "    summary_str += \"Total Conv2d layers: {0:,}\".format(total_conv2d) + \"\\n\"\n",
        "    summary_str += \"Total Linear layers: {0:,}\".format(total_linear) + \"\\n\"\n",
        "    summary_str += \"Total params: {0:,}\".format(total_params) + \"\\n\"\n",
        "    summary_str += \"Trainable params: {0:,}\".format(trainable_params) + \"\\n\"\n",
        "    summary_str += \"Non-trainable params: {0:,}\".format(total_params -\n",
        "                                                        trainable_params) + \"\\n\"\n",
        "    summary_str += \"----------------------------------------------------------------\" + \"\\n\"\n",
        "    summary_str += \"Input size (MB): %0.2f\" % total_input_size + \"\\n\"\n",
        "    summary_str += \"Forward/backward pass size (MB): %0.2f\" % total_output_size + \"\\n\"\n",
        "    summary_str += \"Params size (MB): %0.2f\" % total_params_size + \"\\n\"\n",
        "    summary_str += \"Estimated Total Size (MB): %0.2f\" % total_size + \"\\n\"\n",
        "    summary_str += \"----------------------------------------------------------------\" + \"\\n\"\n",
        "    # return summary\n",
        "    return summary_str, {'total_params': total_params, \n",
        "                         'total_trainable_params': trainable_params,\n",
        "                         'total_conv2d': total_conv2d,\n",
        "                         'total_linear': total_linear}"
      ],
      "execution_count": null,
      "outputs": []
    },
    {
      "cell_type": "code",
      "metadata": {
        "id": "iLxAX58TTC4E"
      },
      "source": [
        "# DO NOT TOUCH THIS CELL\n",
        "from torch import save\n",
        "from torch import load\n",
        "from os import path\n",
        "\n",
        "def check_model_exist_by_name(model_name):\n",
        "    if os.path.exists(model_name + \".pth\") and os.path.isfile(model_name + \".pth\"):\n",
        "        print(f\"[Successly trained and saved!] Your model named {model_name}.pth has been saved! DO NOT change the file's name! Just include it in your submission files.\")\n",
        "    else:\n",
        "        print(f\"[Successly trained but failed to save!] Your model named {model_name}.pth has not been saved or saved in a diffrent name from what we expect!\")\n",
        "        import glob\n",
        "        pt_files = glob.glob(\"*.pth\")\n",
        "        if pt_files:\n",
        "            print(f\"---> Somehow you've saved models as, {pt_files} which is not what autograder expects!\")\n",
        "            print(f\"---> We expect that the trained model to be saved exactly as {model_name}.pth\")\n",
        "            print(f\"---> What you can do is to manually rename the trained model to be {model_name}.pth\")\n",
        "        else:\n",
        "            print(f\"---> We found no saved models in *.pth format at all! Manually check if your saved the models in other formats or they are not saved at all!\")\n",
        "\n",
        "\n",
        "def save_model(model, name):\n",
        "    return save(model.state_dict(), name + \".pth\")\n",
        "    \n",
        "\n",
        "def load_model(name, device_name='cpu'):\n",
        "    \"\"\"\n",
        "    @Brief: load a model saved in the \".pth\" or \".pt\" formats\n",
        "    @Inputs:\n",
        "        name (str): name of the model (without the extension)\n",
        "        device_name (str): name of the device i.e: 'cpu', 'cuda:0', that you would want to run the model on.\n",
        "    @Outputs:\n",
        "        r (nn.Module): a Pytorch model of either \"BasicCNNClassifier\" or \"MyBestCNNClassifier\" (depend on \"name\" input) \n",
        "            with pretrained wieghts.\n",
        "    \"\"\"\n",
        "    if \".\" in name:\n",
        "        name = name.split('.')[0]\n",
        "        \n",
        "    if name == \"BasicCNNClassifier\":\n",
        "        r = BasicCNNClassifier()\n",
        "    elif name == \"MyBestCNNClassifier\":\n",
        "        r = MyBestCNNClassifier()\n",
        "    elif name == \"VGG\":\n",
        "        r = VGG.pth\n",
        "    else:\n",
        "       r = Resnet.pth\n",
        "        \n",
        "    r.load_state_dict(load(name + \".pth\", map_location=device_name))\n",
        "    return r"
      ],
      "execution_count": null,
      "outputs": []
    },
    {
      "cell_type": "code",
      "metadata": {
        "id": "MBl1DlrrTszI"
      },
      "source": [
        "# DO NOT TOUCH THIS CELL!\n",
        "import numpy as np\n",
        "from torchvision.transforms import functional as TF\n",
        "\n",
        "def accuracy(outputs, labels):\n",
        "    outputs_idx = outputs.max(1)[1].type_as(labels)\n",
        "    return outputs_idx.eq(labels).float().mean()\n",
        "\n",
        "def predict(model, inputs, device='cpu'):\n",
        "    inputs = inputs.to(device)\n",
        "    logits = model(inputs)\n",
        "    return F.softmax(logits, -1)\n",
        "\n",
        "def draw_bar(axis, preds, labels=None):\n",
        "    y_pos = np.arange(6)\n",
        "    axis.barh(y_pos, preds, align='center', alpha=0.5)\n",
        "    axis.set_xticks(np.linspace(0, 1, 10))\n",
        "    \n",
        "    if labels:\n",
        "        axis.set_yticks(y_pos)\n",
        "        axis.set_yticklabels(labels)\n",
        "    else:\n",
        "        axis.get_yaxis().set_visible(False)\n",
        "    \n",
        "    axis.get_xaxis().set_visible(False)\n",
        "\n",
        "def visualize_predictions(model=None, model_name=None, device_name='cpu'):\n",
        "  \n",
        "    if model is not None:\n",
        "        model.eval()\n",
        "    else:\n",
        "        model = load_model(model_name, device_name)\n",
        "    \n",
        "    # Get the device \n",
        "    if device_name is not None:\n",
        "        device = torch.device(device_name)\n",
        "    model = model.to(device)\n",
        "\n",
        "    validation_image_path='./data/valid' #enter the path \n",
        "\n",
        "    dataset = ArtDataset(X_train, y_train)\n",
        "\n",
        "    f, axes = plt.subplots(2, 6)\n",
        "\n",
        "    idxes = np.random.randint(0, len(dataset), size=6)\n",
        "\n",
        "    for i, idx in enumerate(idxes):\n",
        "        img, label = dataset[idx]\n",
        "        preds = predict(model, img[None], device=device).detach().cpu().numpy()\n",
        "\n",
        "        axes[0, i].imshow(TF.to_pil_image(img))\n",
        "        axes[0, i].axis('off')\n",
        "        draw_bar(axes[1, i], preds[0], LABEL_ if i == 0 else None)\n",
        "\n",
        "    plt.show()"
      ],
      "execution_count": null,
      "outputs": []
    },
    {
      "cell_type": "code",
      "metadata": {
        "id": "UCYQG5ayOKQi"
      },
      "source": [
        "# Utility Function\n",
        "def load_data(X, y, data_transforms=None, num_workers=0, batch_size=128):\n",
        "    dataset = ArtDataset(X, y,data_transforms)\n",
        "    return DataLoader(dataset, num_workers=num_workers, batch_size=batch_size, shuffle=True)"
      ],
      "execution_count": null,
      "outputs": []
    },
    {
      "cell_type": "markdown",
      "metadata": {
        "id": "erAllzgiIDGe"
      },
      "source": [
        "## Part 7: CNN Training & Testing"
      ]
    },
    {
      "cell_type": "markdown",
      "metadata": {
        "id": "4Gr_yzlsIS1c"
      },
      "source": [
        "Currently I put in the most basic CNN model from our hw. Also had to adapt our orignal SuperTuxDataset object to this project. It is now called \"ArtDataset,\" and it takes in X and y (which can be X_train & y_train, or X_test & y_test).\n",
        "\n",
        "I had to adjust the batch size to be pretty small--32 (originally had it at 128 for the hw) since we have a small dataset. Logging Intervals and saving intervals are also adjusted to be small. Accuracy with most basic model is around 0.3.\n",
        "\n",
        "To change the classifier, please make a new one rather than editing BasicCNNClassifier so we can compare different classifiers!\n",
        "\n",
        "--Catherine"
      ]
    },
    {
      "cell_type": "code",
      "metadata": {
        "id": "nTqORIVE2Oaj"
      },
      "source": [
        "class ClassificationLoss(torch.nn.Module):\n",
        "    def forward(self, input, target):\n",
        "        \"\"\"\n",
        "        Compute mean(-log(softmax(input)_label))\n",
        "        @input:  torch.Tensor((B,C)), where B = batch size, C = number of classes\n",
        "        @target: torch.Tensor((B,), dtype=torch.int64)\n",
        "        @return:  torch.Tensor((,))\n",
        "        Hint: use torch.nn.functional.nll_loss and torch.nn.functional.log_softmax\n",
        "        More details: https://pytorch.org/docs/master/nn.functional.html#torch.nn.functional.nll_loss).\n",
        "        \"\"\"\n",
        "        return torch.nn.functional.nll_loss(torch.nn.functional.log_softmax(input, 1), target, reduction='mean')"
      ],
      "execution_count": null,
      "outputs": []
    },
    {
      "cell_type": "code",
      "metadata": {
        "id": "LQ-OWrC8S-xK"
      },
      "source": [
        "import pandas as pd \n",
        "import os \n",
        "from skimage import io \n",
        "import csv\n",
        "\n",
        "class ArtDataset(Dataset):\n",
        "    def __init__(self, X, y, data_transforms=None):\n",
        "        self.X = X\n",
        "        self.y = y\n",
        "        \n",
        "    transform = transforms.ToTensor()\n",
        "\n",
        "    def __len__(self):\n",
        "        return len(self.X)\n",
        "\n",
        "    def __getitem__(self, idx):\n",
        "        \"\"\"\n",
        "        return a tuple: img, label\n",
        "        \"\"\"\n",
        "        return self.transform(self.X[idx]), self.y[idx]"
      ],
      "execution_count": null,
      "outputs": []
    },
    {
      "cell_type": "code",
      "metadata": {
        "colab": {
          "base_uri": "https://localhost:8080/",
          "height": 248
        },
        "id": "-sQy331oA2sS",
        "outputId": "13d57339-dbf1-47e3-f57b-7f9a9a35c9be"
      },
      "source": [
        "LABEL_NAMES = {\"abstract\": 0, \"fauvism\": 1, \"impressionism\": 2, \"pop\": 3, \"renaissance_classicism\": 4, \"surrealism\": 5}\n",
        "LABEL_ = [\"abstract\",\"fauvism\", \"impressionism\", \"pop\", \"renaissance_classicism\", \"surrealism\"]\n",
        "\n",
        "def visualize_data():\n",
        "    \n",
        "    dataset = ArtDataset(X_train, y_train)\n",
        "\n",
        "    f, axes = plt.subplots(3, len(LABEL_NAMES))\n",
        "\n",
        "    counts = [0]*len(LABEL_NAMES)\n",
        "\n",
        "    for img, label in dataset:\n",
        "        c = counts[label]\n",
        "\n",
        "        if c < 3:\n",
        "            ax = axes[c][label]\n",
        "            ax.imshow(img.permute(1, 2, 0).numpy())\n",
        "            ax.axis('off')\n",
        "            ax.set_title(LABEL_[label])\n",
        "            counts[label] += 1\n",
        "        \n",
        "        if sum(counts) >= 3 * len(LABEL_NAMES):\n",
        "            break\n",
        "\n",
        "    plt.show()\n",
        "\n",
        "visualize_data()"
      ],
      "execution_count": null,
      "outputs": [
        {
          "output_type": "display_data",
          "data": {
            "image/png": "[encoded data removed]",
            "text/plain": [
              "<Figure size 432x288 with 18 Axes>"
            ]
          },
          "metadata": {
            "tags": [],
            "needs_background": "light"
          }
        }
      ]
    },
    {
      "cell_type": "code",
      "metadata": {
        "id": "_ENQ-VUB2tBj"
      },
      "source": [
        "import torch\n",
        "import torch.nn as nn\n",
        "import torch.nn.functional as F\n",
        "class BasicCNNClassifier(torch.nn.Module):\n",
        "    def __init__(self):\n",
        "        # Don't remove the following line. Otherwise, it would raise ```AttributeError: cannot assign module before Module.__init__() call``` exception ERROR!\n",
        "        super(BasicCNNClassifier, self).__init__() \n",
        "        \n",
        "        self.conv1 = nn.Conv2d(3, 8, 4, 2)\n",
        "        self.conv2 = nn.Conv2d(8, 16, 4, 2)\n",
        "        self.fc1 = nn.Linear(5184, 128)\n",
        "        self.fc2 = nn.Linear(128, 6)\n",
        "        \n",
        "\n",
        "    def forward(self, x):\n",
        "        x = F.relu(self.conv1(x))\n",
        "        x = F.relu(self.conv2(x))\n",
        "        x = x.view(-1, 5184)\n",
        "        x = F.relu(self.fc1(x))\n",
        "        x = self.fc2(x)\n",
        "        return x"
      ],
      "execution_count": null,
      "outputs": []
    },
    {
      "cell_type": "code",
      "metadata": {
        "colab": {
          "base_uri": "https://localhost:8080/"
        },
        "id": "C36wcsrF3WmV",
        "outputId": "ccf85a5a-1949-4ac0-fd46-9be62f96f6b8"
      },
      "source": [
        "student_net = BasicCNNClassifier()\n",
        "\n",
        "# Investigate your network's layers\n",
        "# Compare the printed shape with what expected in the specification\n",
        "print(\"\\n========= Model summarization ============ \") \n",
        "student_net_info = summary(student_net, (3, 80, 80), device='cpu')"
      ],
      "execution_count": null,
      "outputs": [
        {
          "output_type": "stream",
          "text": [
            "\n",
            "========= Model summarization ============ \n",
            "----------------------------------------------------------------\n",
            "        Layer (type)               Output Shape         Param #\n",
            "================================================================\n",
            "            Conv2d-1            [-1, 8, 39, 39]             392\n",
            "            Conv2d-2           [-1, 16, 18, 18]           2,064\n",
            "            Linear-3                  [-1, 128]         663,680\n",
            "            Linear-4                    [-1, 6]             774\n",
            "BasicCNNClassifier-5                    [-1, 6]               0\n",
            "================================================================\n",
            "Total Conv2d layers: 2\n",
            "Total Linear layers: 2\n",
            "Total params: 666,910\n",
            "Trainable params: 666,910\n",
            "Non-trainable params: 0\n",
            "----------------------------------------------------------------\n",
            "Input size (MB): 0.07\n",
            "Forward/backward pass size (MB): 0.13\n",
            "Params size (MB): 2.54\n",
            "Estimated Total Size (MB): 2.75\n",
            "----------------------------------------------------------------\n",
            "\n"
          ],
          "name": "stdout"
        }
      ]
    },
    {
      "cell_type": "markdown",
      "metadata": {
        "id": "2Tw2FvkGHqLe"
      },
      "source": [
        "Currently the batch size is really small"
      ]
    },
    {
      "cell_type": "code",
      "metadata": {
        "id": "yl22TDre-F-w"
      },
      "source": [
        "class Args(object):\n",
        "    def __init__(self):\n",
        "      self.log_dir = 'logdir'\n",
        "      self.learning_rate = 2E-4\n",
        "      self.batch_size = 128\n",
        "      self.optimizer = 'adam' #\n",
        "\n",
        "args = Args();"
      ],
      "execution_count": null,
      "outputs": []
    },
    {
      "cell_type": "code",
      "metadata": {
        "id": "2Oq2ouq0RUTL"
      },
      "source": [
        "def train(args, model_name=\"BasicCNNClassifier\"):\n",
        "    \"\"\"\n",
        "    @Brief: training your model. This should include the following items:\n",
        "        - Initialize the model (already given). Only need to map the model to the device on which you would want to run the model on \n",
        "                using the following syntax: \n",
        "                model = model.to(device) \n",
        "                where device = torch.device(<device_name>), \n",
        "                i.e: device = torch.device(\"cuda:0\") or device = torech.device(\"cpu\")\n",
        "                    \n",
        "        - Initialize tensorboard summarizers (already given)\n",
        "        - Initialize data loaders (you need to code up)\n",
        "        - Initialize the optimizer (you need to code up. Type is of your choice)\n",
        "        - Initialize the loss function (you should have coded up above)\n",
        "        - A for loop to iterate through many epochs (up to your choice). In each epoch:\n",
        "                - Iterate through every mini-batches (remember to map data and labels to the device that you would want to run the model on)\n",
        "                        - Run the forward path\n",
        "                        - Get loss\n",
        "                        - Calculate gradients \n",
        "                        - Update the model's parameters\n",
        "                - Evaluate your model on the validation set\n",
        "                - Save the model if the performance on the validation set is better using exactly the following line:\n",
        "                        save_model(model, model_name) \n",
        "                 \n",
        "    @Inputs: \n",
        "        Args: object of your choice to carry arguments that you want to use within your training function. \n",
        "    @Output: \n",
        "        No return is necessary here. \n",
        "    \"\"\"\n",
        "    # Do not touch the following lines\n",
        "    # Initialize the model \n",
        "    if model_name == \"MyBestCNNClassifier\":\n",
        "        model = MyBestCNNClassifier()\n",
        "    else:\n",
        "        model = BasicCNNClassifier()\n",
        "    # Initialize tensorboard loggers\n",
        "    if args.log_dir is not None:\n",
        "        train_logger = tb.SummaryWriter(os.path.join(args.log_dir, 'train'))\n",
        "        valid_logger = tb.SummaryWriter(os.path.join(args.log_dir, 'valid'))\n",
        "    \n",
        "    # Create subfolders to save the tensorboard log files\n",
        "    if not os.path.exists(os.path.join(args.log_dir, f'train/{model_name}')):\n",
        "        os.makedirs(os.path.join(args.log_dir, f'train/{model_name}'))\n",
        "    if not os.path.exists(os.path.join(args.log_dir, f'valid/{model_name}')):\n",
        "        os.makedirs(os.path.join(args.log_dir, f'valid/{model_name}'))  \n",
        "    #----------------------------------------\n",
        "    \n",
        "    device =  torch.device(\"cuda:0\" if torch.cuda.is_available() else \"cpu\")\n",
        "    model = model.to(device)\n",
        "    model.apply(init_weights)\n",
        "    \n",
        "    train_loader = load_data(X_train, y_train, data_transforms=None, num_workers=0, batch_size=args.batch_size)\n",
        "    test_loader = load_data(X_test, y_test, data_transforms=None, num_workers=0, batch_size=args.batch_size)\n",
        "    \n",
        "    if args.optimizer == 'adam': \n",
        "      optimizer = torch.optim.Adam(model.parameters(),lr = args.learning_rate)\n",
        "    else: \n",
        "      optimizer = torch.optim.SGD(model.parameters(), lr=0.002, momentum=0.9)\n",
        "    \n",
        "    criterion = ClassificationLoss()\n",
        "    running_loss = 0.0\n",
        "    counter = 0\n",
        "    def check_accuracy():\n",
        "      correct = 0\n",
        "      total = 0\n",
        "      with torch.no_grad():\n",
        "          for data in test_loader:\n",
        "              images, labels = data[0].to(device), data[1].to(device)\n",
        "              outputs = model(images)\n",
        "              _, predicted = torch.max(outputs.data, 1)\n",
        "              total += labels.size(0)\n",
        "              correct += (predicted == labels).sum().item()\n",
        "      acc = correct / total\n",
        "      print('accuracy: %.3f' %(acc))\n",
        "      return acc\n",
        "    best_acc = 0\n",
        "\n",
        "    loss_curve = []\n",
        "    epoch_loss_mid = 0\n",
        "    run_loss = []\n",
        "    num_epochs = 50\n",
        "\n",
        "    for epoch in range(num_epochs):\n",
        "      for i,(inputs,labels) in enumerate(train_loader):\n",
        "        counter += 1\n",
        "        optimizer.zero_grad()\n",
        "\n",
        "        # Forward propogation happens here\n",
        "        inputs = inputs.to(device)\n",
        "        outputs = model(inputs) \n",
        "\n",
        "        labels = labels.to(device)\n",
        "        loss = criterion(outputs,labels)  \n",
        "        loss.backward()\n",
        "        optimizer.step()\n",
        "        running_loss += loss.item()\n",
        "        if (counter+1) % 10 == 0: \n",
        "            print('[%d, %5d] loss: %.3f' %(epoch + 1, i + 1, running_loss / 1000))\n",
        "\n",
        "            epoch_loss_mid += running_loss / 1000\n",
        "            run_loss.append(running_loss)\n",
        "\n",
        "            running_loss = 0.0\n",
        "        if (counter+1) % 20 == 0:\n",
        "          acc = check_accuracy()\n",
        "          if acc > best_acc:\n",
        "            save_model(model, model_name)\n",
        "    \n",
        "      L = len(run_loss)\n",
        "      if L != 0:\n",
        "        loss_curve.append(epoch_loss_mid / L)\n",
        "      epoch_loss_mid = 0\n",
        "      run_loss = []\n",
        "\n",
        "    acc = check_accuracy()\n",
        "    if acc > best_acc:\n",
        "      save_model(model, model_name)\n",
        "\n",
        "    epochs = np.arange(num_epochs)    \n",
        "    plt.figure(figsize=(5,5))\n",
        "    plt.plot(epochs,loss_curve)\n",
        "    plt.title(\"Loss vs num Epochs\")\n",
        "    plt.legend()\n",
        "    plt.xlabel(\"Epochs\")\n",
        "    plt.ylabel(\"Loss\")\n",
        "    plt.show()\n",
        "\n",
        "    # Don't touch the following lines\n",
        "    #You are not returning a model, but rather saving it to a file, which you will upload along with the homework4.py file\n",
        "    save_model(model, model_name) \n",
        "    # Make sure the file has been saved \n",
        "    assert os.path.exists(model_name + \".pth\") and os.path.isfile(model_name + \".pth\"), f\"[Fail to save your model named {model_name}.pth!\""
      ],
      "execution_count": null,
      "outputs": []
    },
    {
      "cell_type": "code",
      "metadata": {
        "id": "EUfHC9Vl-Vfu",
        "colab": {
          "base_uri": "https://localhost:8080/",
          "height": 1000
        },
        "outputId": "3e7809a2-22d5-4579-8be4-4683a543a54c"
      },
      "source": [
        "model_name=\"BasicCNNClassifier\"\n",
        "train(args, model_name=model_name)\n",
        "\n",
        "# Make sure that the model you've trained above has already been saved! \n",
        "check_model_exist_by_name(model_name)"
      ],
      "execution_count": null,
      "outputs": [
        {
          "output_type": "stream",
          "text": [
            "[1,     9] loss: 0.016\n",
            "[1,    19] loss: 0.018\n",
            "accuracy: 0.250\n",
            "[1,    29] loss: 0.017\n",
            "[1,    39] loss: 0.017\n",
            "accuracy: 0.241\n",
            "[2,     5] loss: 0.016\n",
            "[2,    15] loss: 0.016\n",
            "accuracy: 0.283\n",
            "[2,    25] loss: 0.016\n",
            "[2,    35] loss: 0.016\n",
            "accuracy: 0.325\n",
            "[3,     1] loss: 0.015\n",
            "[3,    11] loss: 0.015\n",
            "accuracy: 0.335\n",
            "[3,    21] loss: 0.015\n",
            "[3,    31] loss: 0.014\n",
            "accuracy: 0.384\n",
            "[3,    41] loss: 0.015\n",
            "[4,     7] loss: 0.014\n",
            "accuracy: 0.364\n",
            "[4,    17] loss: 0.013\n",
            "[4,    27] loss: 0.013\n",
            "accuracy: 0.388\n",
            "[4,    37] loss: 0.014\n",
            "[5,     3] loss: 0.013\n",
            "accuracy: 0.405\n",
            "[5,    13] loss: 0.013\n",
            "[5,    23] loss: 0.013\n",
            "accuracy: 0.429\n",
            "[5,    33] loss: 0.012\n",
            "[5,    43] loss: 0.012\n",
            "accuracy: 0.445\n",
            "[6,     9] loss: 0.011\n",
            "[6,    19] loss: 0.012\n",
            "accuracy: 0.457\n",
            "[6,    29] loss: 0.011\n",
            "[6,    39] loss: 0.011\n",
            "accuracy: 0.473\n",
            "[7,     5] loss: 0.011\n",
            "[7,    15] loss: 0.010\n",
            "accuracy: 0.453\n",
            "[7,    25] loss: 0.010\n",
            "[7,    35] loss: 0.010\n",
            "accuracy: 0.466\n",
            "[8,     1] loss: 0.010\n",
            "[8,    11] loss: 0.009\n",
            "accuracy: 0.418\n",
            "[8,    21] loss: 0.009\n",
            "[8,    31] loss: 0.009\n",
            "accuracy: 0.476\n",
            "[8,    41] loss: 0.009\n",
            "[9,     7] loss: 0.009\n",
            "accuracy: 0.384\n",
            "[9,    17] loss: 0.009\n",
            "[9,    27] loss: 0.008\n",
            "accuracy: 0.467\n",
            "[9,    37] loss: 0.008\n",
            "[10,     3] loss: 0.008\n",
            "accuracy: 0.456\n",
            "[10,    13] loss: 0.008\n",
            "[10,    23] loss: 0.008\n",
            "accuracy: 0.459\n",
            "[10,    33] loss: 0.007\n",
            "[10,    43] loss: 0.008\n",
            "accuracy: 0.446\n",
            "[11,     9] loss: 0.008\n",
            "[11,    19] loss: 0.007\n",
            "accuracy: 0.462\n",
            "[11,    29] loss: 0.007\n",
            "[11,    39] loss: 0.007\n",
            "accuracy: 0.470\n",
            "[12,     5] loss: 0.007\n",
            "[12,    15] loss: 0.006\n",
            "accuracy: 0.457\n",
            "[12,    25] loss: 0.007\n",
            "[12,    35] loss: 0.006\n",
            "accuracy: 0.462\n",
            "[13,     1] loss: 0.006\n",
            "[13,    11] loss: 0.006\n",
            "accuracy: 0.464\n",
            "[13,    21] loss: 0.006\n",
            "[13,    31] loss: 0.006\n",
            "accuracy: 0.455\n",
            "[13,    41] loss: 0.006\n",
            "[14,     7] loss: 0.006\n",
            "accuracy: 0.443\n",
            "[14,    17] loss: 0.005\n",
            "[14,    27] loss: 0.006\n",
            "accuracy: 0.459\n",
            "[14,    37] loss: 0.006\n",
            "[15,     3] loss: 0.005\n",
            "accuracy: 0.467\n",
            "[15,    13] loss: 0.005\n",
            "[15,    23] loss: 0.005\n",
            "accuracy: 0.440\n",
            "[15,    33] loss: 0.006\n",
            "[15,    43] loss: 0.005\n",
            "accuracy: 0.438\n",
            "[16,     9] loss: 0.005\n",
            "[16,    19] loss: 0.005\n",
            "accuracy: 0.456\n",
            "[16,    29] loss: 0.005\n",
            "[16,    39] loss: 0.005\n",
            "accuracy: 0.443\n",
            "[17,     5] loss: 0.004\n",
            "[17,    15] loss: 0.005\n",
            "accuracy: 0.435\n",
            "[17,    25] loss: 0.004\n",
            "[17,    35] loss: 0.004\n",
            "accuracy: 0.443\n",
            "[18,     1] loss: 0.004\n",
            "[18,    11] loss: 0.004\n",
            "accuracy: 0.456\n",
            "[18,    21] loss: 0.004\n",
            "[18,    31] loss: 0.004\n",
            "accuracy: 0.453\n",
            "[18,    41] loss: 0.004\n",
            "[19,     7] loss: 0.004\n",
            "accuracy: 0.449\n",
            "[19,    17] loss: 0.004\n",
            "[19,    27] loss: 0.003\n",
            "accuracy: 0.452\n",
            "[19,    37] loss: 0.004\n",
            "[20,     3] loss: 0.003\n",
            "accuracy: 0.455\n",
            "[20,    13] loss: 0.003\n",
            "[20,    23] loss: 0.003\n",
            "accuracy: 0.464\n",
            "[20,    33] loss: 0.003\n",
            "[20,    43] loss: 0.003\n",
            "accuracy: 0.449\n",
            "[21,     9] loss: 0.003\n",
            "[21,    19] loss: 0.003\n",
            "accuracy: 0.449\n",
            "[21,    29] loss: 0.003\n",
            "[21,    39] loss: 0.003\n",
            "accuracy: 0.453\n",
            "[22,     5] loss: 0.003\n",
            "[22,    15] loss: 0.003\n",
            "accuracy: 0.450\n",
            "[22,    25] loss: 0.003\n",
            "[22,    35] loss: 0.003\n",
            "accuracy: 0.447\n",
            "[23,     1] loss: 0.003\n",
            "[23,    11] loss: 0.003\n",
            "accuracy: 0.457\n",
            "[23,    21] loss: 0.003\n",
            "[23,    31] loss: 0.003\n",
            "accuracy: 0.443\n",
            "[23,    41] loss: 0.003\n",
            "[24,     7] loss: 0.003\n",
            "accuracy: 0.446\n",
            "[24,    17] loss: 0.002\n",
            "[24,    27] loss: 0.003\n",
            "accuracy: 0.446\n",
            "[24,    37] loss: 0.002\n",
            "[25,     3] loss: 0.003\n",
            "accuracy: 0.432\n",
            "[25,    13] loss: 0.002\n",
            "[25,    23] loss: 0.002\n",
            "accuracy: 0.452\n",
            "[25,    33] loss: 0.002\n",
            "[25,    43] loss: 0.002\n",
            "accuracy: 0.440\n",
            "[26,     9] loss: 0.002\n",
            "[26,    19] loss: 0.002\n",
            "accuracy: 0.442\n",
            "[26,    29] loss: 0.002\n",
            "[26,    39] loss: 0.002\n",
            "accuracy: 0.452\n",
            "[27,     5] loss: 0.002\n",
            "[27,    15] loss: 0.002\n",
            "accuracy: 0.442\n",
            "[27,    25] loss: 0.002\n",
            "[27,    35] loss: 0.002\n",
            "accuracy: 0.450\n",
            "[28,     1] loss: 0.002\n",
            "[28,    11] loss: 0.002\n",
            "accuracy: 0.457\n",
            "[28,    21] loss: 0.002\n",
            "[28,    31] loss: 0.002\n",
            "accuracy: 0.436\n",
            "[28,    41] loss: 0.002\n",
            "[29,     7] loss: 0.002\n",
            "accuracy: 0.450\n",
            "[29,    17] loss: 0.002\n",
            "[29,    27] loss: 0.002\n",
            "accuracy: 0.439\n",
            "[29,    37] loss: 0.002\n",
            "[30,     3] loss: 0.002\n",
            "accuracy: 0.438\n",
            "[30,    13] loss: 0.002\n",
            "[30,    23] loss: 0.002\n",
            "accuracy: 0.450\n",
            "[30,    33] loss: 0.002\n",
            "[30,    43] loss: 0.002\n",
            "accuracy: 0.446\n",
            "[31,     9] loss: 0.001\n",
            "[31,    19] loss: 0.001\n",
            "accuracy: 0.443\n",
            "[31,    29] loss: 0.001\n",
            "[31,    39] loss: 0.002\n",
            "accuracy: 0.439\n",
            "[32,     5] loss: 0.001\n",
            "[32,    15] loss: 0.001\n",
            "accuracy: 0.462\n",
            "[32,    25] loss: 0.001\n",
            "[32,    35] loss: 0.001\n",
            "accuracy: 0.438\n",
            "[33,     1] loss: 0.001\n",
            "[33,    11] loss: 0.001\n",
            "accuracy: 0.455\n",
            "[33,    21] loss: 0.001\n",
            "[33,    31] loss: 0.001\n",
            "accuracy: 0.440\n",
            "[33,    41] loss: 0.001\n",
            "[34,     7] loss: 0.001\n",
            "accuracy: 0.433\n",
            "[34,    17] loss: 0.001\n",
            "[34,    27] loss: 0.001\n",
            "accuracy: 0.450\n",
            "[34,    37] loss: 0.001\n",
            "[35,     3] loss: 0.001\n",
            "accuracy: 0.430\n",
            "[35,    13] loss: 0.001\n",
            "[35,    23] loss: 0.001\n",
            "accuracy: 0.452\n",
            "[35,    33] loss: 0.001\n",
            "[35,    43] loss: 0.001\n",
            "accuracy: 0.425\n",
            "[36,     9] loss: 0.001\n",
            "[36,    19] loss: 0.001\n",
            "accuracy: 0.439\n",
            "[36,    29] loss: 0.001\n",
            "[36,    39] loss: 0.001\n",
            "accuracy: 0.440\n",
            "[37,     5] loss: 0.001\n",
            "[37,    15] loss: 0.001\n",
            "accuracy: 0.439\n",
            "[37,    25] loss: 0.001\n",
            "[37,    35] loss: 0.001\n",
            "accuracy: 0.442\n",
            "[38,     1] loss: 0.001\n",
            "[38,    11] loss: 0.001\n",
            "accuracy: 0.432\n",
            "[38,    21] loss: 0.001\n",
            "[38,    31] loss: 0.001\n",
            "accuracy: 0.457\n",
            "[38,    41] loss: 0.001\n",
            "[39,     7] loss: 0.001\n",
            "accuracy: 0.432\n",
            "[39,    17] loss: 0.001\n",
            "[39,    27] loss: 0.001\n",
            "accuracy: 0.432\n",
            "[39,    37] loss: 0.001\n",
            "[40,     3] loss: 0.001\n",
            "accuracy: 0.428\n",
            "[40,    13] loss: 0.001\n",
            "[40,    23] loss: 0.001\n",
            "accuracy: 0.446\n",
            "[40,    33] loss: 0.001\n",
            "[40,    43] loss: 0.001\n",
            "accuracy: 0.436\n",
            "[41,     9] loss: 0.001\n",
            "[41,    19] loss: 0.001\n",
            "accuracy: 0.429\n",
            "[41,    29] loss: 0.001\n",
            "[41,    39] loss: 0.001\n",
            "accuracy: 0.433\n",
            "[42,     5] loss: 0.001\n",
            "[42,    15] loss: 0.001\n",
            "accuracy: 0.428\n",
            "[42,    25] loss: 0.001\n",
            "[42,    35] loss: 0.001\n",
            "accuracy: 0.436\n",
            "[43,     1] loss: 0.001\n",
            "[43,    11] loss: 0.001\n",
            "accuracy: 0.433\n",
            "[43,    21] loss: 0.000\n",
            "[43,    31] loss: 0.001\n",
            "accuracy: 0.442\n",
            "[43,    41] loss: 0.001\n",
            "[44,     7] loss: 0.001\n",
            "accuracy: 0.446\n",
            "[44,    17] loss: 0.001\n",
            "[44,    27] loss: 0.000\n",
            "accuracy: 0.438\n",
            "[44,    37] loss: 0.001\n",
            "[45,     3] loss: 0.001\n",
            "accuracy: 0.433\n",
            "[45,    13] loss: 0.001\n",
            "[45,    23] loss: 0.000\n",
            "accuracy: 0.438\n",
            "[45,    33] loss: 0.001\n",
            "[45,    43] loss: 0.001\n",
            "accuracy: 0.435\n",
            "[46,     9] loss: 0.000\n",
            "[46,    19] loss: 0.000\n",
            "accuracy: 0.425\n",
            "[46,    29] loss: 0.001\n",
            "[46,    39] loss: 0.001\n",
            "accuracy: 0.435\n",
            "[47,     5] loss: 0.000\n",
            "[47,    15] loss: 0.000\n",
            "accuracy: 0.436\n",
            "[47,    25] loss: 0.001\n",
            "[47,    35] loss: 0.001\n",
            "accuracy: 0.447\n",
            "[48,     1] loss: 0.000\n",
            "[48,    11] loss: 0.000\n",
            "accuracy: 0.418\n",
            "[48,    21] loss: 0.000\n",
            "[48,    31] loss: 0.000\n",
            "accuracy: 0.429\n",
            "[48,    41] loss: 0.000\n",
            "[49,     7] loss: 0.000\n",
            "accuracy: 0.430\n",
            "[49,    17] loss: 0.000\n",
            "[49,    27] loss: 0.000\n",
            "accuracy: 0.436\n",
            "[49,    37] loss: 0.000\n",
            "[50,     3] loss: 0.000\n",
            "accuracy: 0.433\n",
            "[50,    13] loss: 0.000\n",
            "[50,    23] loss: 0.000\n",
            "accuracy: 0.445\n",
            "[50,    33] loss: 0.000\n",
            "[50,    43] loss: 0.000\n",
            "accuracy: 0.440\n"
          ],
          "name": "stdout"
        },
        {
          "output_type": "stream",
          "text": [
            "No handles with labels found to put in legend.\n"
          ],
          "name": "stderr"
        },
        {
          "output_type": "stream",
          "text": [
            "accuracy: 0.436\n"
          ],
          "name": "stdout"
        },
        {
          "output_type": "display_data",
          "data": {
            "image/png": "[encoded data removed]",
            "text/plain": [
              "<Figure size 360x360 with 1 Axes>"
            ]
          },
          "metadata": {
            "tags": [],
            "needs_background": "light"
          }
        },
        {
          "output_type": "stream",
          "text": [
            "[Successly trained and saved!] Your model named BasicCNNClassifier.pth has been saved! DO NOT change the file's name! Just include it in your submission files.\n"
          ],
          "name": "stdout"
        }
      ]
    },
    {
      "cell_type": "code",
      "metadata": {
        "id": "Q7FVlPAb-nbs",
        "colab": {
          "base_uri": "https://localhost:8080/",
          "height": 226
        },
        "outputId": "75af0f23-029a-44ef-a438-c6b1584f7d11"
      },
      "source": [
        "# Visualize the prediction of your BasicCNNClassifier model\n",
        "model_name = \"BasicCNNClassifier\"\n",
        "visualize_predictions(model_name=model_name)"
      ],
      "execution_count": null,
      "outputs": [
        {
          "output_type": "display_data",
          "data": {
            "image/png": "[encoded data removed]",
            "text/plain": [
              "<Figure size 432x288 with 12 Axes>"
            ]
          },
          "metadata": {
            "tags": [],
            "needs_background": "light"
          }
        }
      ]
    },
    {
      "cell_type": "markdown",
      "metadata": {
        "id": "5YEichwZSak6"
      },
      "source": [
        "4. Best CNN Model"
      ]
    },
    {
      "cell_type": "code",
      "metadata": {
        "id": "KBazMrA5TgeK"
      },
      "source": [
        "MAX_Conv2d = 15\n",
        "MAX_Linear = 4\n",
        "MAX_PARAMS = 2e6 \n",
        "\n",
        "import torch\n",
        "import torch.nn as nn\n",
        "import torch.nn.functional as F\n",
        "class MyBestCNNClassifier(torch.nn.Module):\n",
        "    def __init__(self):\n",
        "        \"\"\"\n",
        "        Task: code up your model\n",
        "        \"\"\"\n",
        "        # Don't remove the following line. Otherwise, it would raise ```AttributeError: cannot assign module before Module.__init__() call``` exception ERROR!\n",
        "        super(MyBestCNNClassifier, self).__init__() \n",
        "        # YOUR CODE HERE \n",
        "        super(MyBestCNNClassifier, self).__init__() \n",
        "        self.conv_1 = torch.nn.Conv2d(in_channels=3, out_channels=8, kernel_size=5, stride=1, padding=2)\n",
        "        self.conv_2 = torch.nn.Conv2d(in_channels=8, out_channels=8, kernel_size=3, stride=1, padding=1)\n",
        "        self.conv_3 = torch.nn.Conv2d(in_channels=8, out_channels=8, kernel_size=3, stride=2, padding=1)\n",
        "        self.conv_4 = torch.nn.Conv2d(in_channels=8, out_channels=16, kernel_size=3, stride=1, padding=1)\n",
        "        self.conv_5 = torch.nn.Conv2d(in_channels=16, out_channels=16, kernel_size=3, stride=1, padding=1)\n",
        "        self.conv_6 = torch.nn.Conv2d(in_channels=16, out_channels=16, kernel_size=3, stride=2, padding=1)\n",
        "        self.conv_7 = torch.nn.Conv2d(in_channels=16, out_channels=32, kernel_size=3, stride=1, padding=1)\n",
        "        self.conv_8 = torch.nn.Conv2d(in_channels=32, out_channels=32, kernel_size=3, stride=1, padding=1)\n",
        "        self.conv_9 = torch.nn.Conv2d(in_channels=32, out_channels=32, kernel_size=3, stride=2, padding=1)\n",
        "        self.linear_1 = torch.nn.Linear(3200, 128)\n",
        "        self.linear_2 = torch.nn.Linear(128, 6)\n",
        "        self.relu = torch.nn.ReLU()\n",
        "        self.dropout = nn.Dropout(0.15)\n",
        "\n",
        "    def forward(self, x):\n",
        "        \"\"\"\n",
        "        Your code here\n",
        "        @Brief: This function takes as input a tensor x of size Bx3x64x64 \n",
        "        and outputs a \"logit\" tensor of size Bx6. Do not include a softmax layer \n",
        "        here because most of Pytorch's loss functions take \"logit\" as one of the inputs\n",
        "        while integrating log() with softmax() into a log_softmax() function.    \n",
        "        @Inputs: \n",
        "          x: torch.Tensor((B,3,64,64)) \n",
        "        @return: torch.Tensor((B,6))\n",
        "       \n",
        "        \"\"\"\n",
        "        # YOUR CODE HERE \n",
        "        x = self.relu(self.conv_1(x))\n",
        "        x = self.relu(self.conv_2(x))\n",
        "        x = self.relu(self.conv_3(x))\n",
        "        x = self.relu(self.conv_4(x))\n",
        "        x = self.relu(self.conv_5(x))\n",
        "        x = self.relu(self.conv_6(x))  \n",
        "        x = self.relu(self.conv_7(x))\n",
        "        x = self.relu(self.conv_8(x))\n",
        "        x = self.relu(self.conv_9(x))      \n",
        "        x = x.reshape(x.size(0), -1) # Flatten the image from [16, 16, 28, 28] to [16, 16*28*28] \n",
        "        x = self.dropout(x)\n",
        "        x = self.relu(self.linear_1(x))\n",
        "        x = self.dropout(x)\n",
        "        x = self.linear_2(x)\n",
        "        return x\n"
      ],
      "execution_count": null,
      "outputs": []
    },
    {
      "cell_type": "code",
      "metadata": {
        "colab": {
          "base_uri": "https://localhost:8080/"
        },
        "id": "nBWN9s0fAAXG",
        "outputId": "2f56549a-5118-4d03-dc86-6b2e1c47d00e"
      },
      "source": [
        "student_net = MyBestCNNClassifier()\n",
        "\n",
        "# Investigate your network's layers\n",
        "# Compare the printed shape with what expected in the specification\n",
        "print(\"\\n========= Model summarization ============ \") \n",
        "student_net_info = summary(student_net, (3, 80, 80), device='cpu')"
      ],
      "execution_count": null,
      "outputs": [
        {
          "output_type": "stream",
          "text": [
            "\n",
            "========= Model summarization ============ \n",
            "----------------------------------------------------------------\n",
            "        Layer (type)               Output Shape         Param #\n",
            "================================================================\n",
            "            Conv2d-1            [-1, 8, 80, 80]             608\n",
            "              ReLU-2            [-1, 8, 80, 80]               0\n",
            "            Conv2d-3            [-1, 8, 80, 80]             584\n",
            "              ReLU-4            [-1, 8, 80, 80]               0\n",
            "            Conv2d-5            [-1, 8, 40, 40]             584\n",
            "              ReLU-6            [-1, 8, 40, 40]               0\n",
            "            Conv2d-7           [-1, 16, 40, 40]           1,168\n",
            "              ReLU-8           [-1, 16, 40, 40]               0\n",
            "            Conv2d-9           [-1, 16, 40, 40]           2,320\n",
            "             ReLU-10           [-1, 16, 40, 40]               0\n",
            "           Conv2d-11           [-1, 16, 20, 20]           2,320\n",
            "             ReLU-12           [-1, 16, 20, 20]               0\n",
            "           Conv2d-13           [-1, 32, 20, 20]           4,640\n",
            "             ReLU-14           [-1, 32, 20, 20]               0\n",
            "           Conv2d-15           [-1, 32, 20, 20]           9,248\n",
            "             ReLU-16           [-1, 32, 20, 20]               0\n",
            "           Conv2d-17           [-1, 32, 10, 10]           9,248\n",
            "             ReLU-18           [-1, 32, 10, 10]               0\n",
            "          Dropout-19                 [-1, 3200]               0\n",
            "           Linear-20                  [-1, 128]         409,728\n",
            "             ReLU-21                  [-1, 128]               0\n",
            "          Dropout-22                  [-1, 128]               0\n",
            "           Linear-23                    [-1, 6]             774\n",
            "MyBestCNNClassifier-24                    [-1, 6]               0\n",
            "================================================================\n",
            "Total Conv2d layers: 9\n",
            "Total Linear layers: 2\n",
            "Total params: 441,222\n",
            "Trainable params: 441,222\n",
            "Non-trainable params: 0\n",
            "----------------------------------------------------------------\n",
            "Input size (MB): 0.07\n",
            "Forward/backward pass size (MB): 3.10\n",
            "Params size (MB): 1.68\n",
            "Estimated Total Size (MB): 4.86\n",
            "----------------------------------------------------------------\n",
            "\n"
          ],
          "name": "stdout"
        }
      ]
    },
    {
      "cell_type": "code",
      "metadata": {
        "colab": {
          "base_uri": "https://localhost:8080/",
          "height": 1000
        },
        "id": "4Ado3BUgTjiD",
        "outputId": "3a9a218d-03b0-4f94-9a17-b4f78df3e2f3"
      },
      "source": [
        "model_name=\"MyBestCNNClassifier\"\n",
        "train(args, model_name=model_name)\n"
      ],
      "execution_count": null,
      "outputs": [
        {
          "output_type": "stream",
          "text": [
            "[1,     9] loss: 0.017\n",
            "[1,    19] loss: 0.018\n",
            "accuracy: 0.220\n",
            "[1,    29] loss: 0.017\n",
            "[1,    39] loss: 0.017\n",
            "accuracy: 0.247\n",
            "[2,     5] loss: 0.017\n",
            "[2,    15] loss: 0.016\n",
            "accuracy: 0.401\n",
            "[2,    25] loss: 0.016\n",
            "[2,    35] loss: 0.015\n",
            "accuracy: 0.392\n",
            "[3,     1] loss: 0.015\n",
            "[3,    11] loss: 0.014\n",
            "accuracy: 0.399\n",
            "[3,    21] loss: 0.014\n",
            "[3,    31] loss: 0.014\n",
            "accuracy: 0.402\n",
            "[3,    41] loss: 0.014\n",
            "[4,     7] loss: 0.014\n",
            "accuracy: 0.369\n",
            "[4,    17] loss: 0.013\n",
            "[4,    27] loss: 0.013\n",
            "accuracy: 0.456\n",
            "[4,    37] loss: 0.014\n",
            "[5,     3] loss: 0.013\n",
            "accuracy: 0.426\n",
            "[5,    13] loss: 0.013\n",
            "[5,    23] loss: 0.012\n",
            "accuracy: 0.474\n",
            "[5,    33] loss: 0.012\n",
            "[5,    43] loss: 0.013\n",
            "accuracy: 0.442\n",
            "[6,     9] loss: 0.012\n",
            "[6,    19] loss: 0.012\n",
            "accuracy: 0.455\n",
            "[6,    29] loss: 0.012\n",
            "[6,    39] loss: 0.013\n",
            "accuracy: 0.447\n",
            "[7,     5] loss: 0.012\n",
            "[7,    15] loss: 0.012\n",
            "accuracy: 0.482\n",
            "[7,    25] loss: 0.012\n",
            "[7,    35] loss: 0.012\n",
            "accuracy: 0.433\n",
            "[8,     1] loss: 0.011\n",
            "[8,    11] loss: 0.011\n",
            "accuracy: 0.479\n",
            "[8,    21] loss: 0.011\n",
            "[8,    31] loss: 0.011\n",
            "accuracy: 0.486\n",
            "[8,    41] loss: 0.011\n",
            "[9,     7] loss: 0.011\n",
            "accuracy: 0.457\n",
            "[9,    17] loss: 0.011\n",
            "[9,    27] loss: 0.011\n",
            "accuracy: 0.469\n",
            "[9,    37] loss: 0.011\n",
            "[10,     3] loss: 0.010\n",
            "accuracy: 0.469\n",
            "[10,    13] loss: 0.010\n",
            "[10,    23] loss: 0.009\n",
            "accuracy: 0.463\n",
            "[10,    33] loss: 0.010\n",
            "[10,    43] loss: 0.010\n",
            "accuracy: 0.473\n",
            "[11,     9] loss: 0.009\n",
            "[11,    19] loss: 0.010\n",
            "accuracy: 0.462\n",
            "[11,    29] loss: 0.010\n",
            "[11,    39] loss: 0.010\n",
            "accuracy: 0.484\n",
            "[12,     5] loss: 0.009\n",
            "[12,    15] loss: 0.008\n",
            "accuracy: 0.482\n",
            "[12,    25] loss: 0.009\n",
            "[12,    35] loss: 0.009\n",
            "accuracy: 0.487\n",
            "[13,     1] loss: 0.009\n",
            "[13,    11] loss: 0.008\n",
            "accuracy: 0.469\n",
            "[13,    21] loss: 0.009\n",
            "[13,    31] loss: 0.009\n",
            "accuracy: 0.466\n",
            "[13,    41] loss: 0.009\n",
            "[14,     7] loss: 0.008\n",
            "accuracy: 0.470\n",
            "[14,    17] loss: 0.008\n",
            "[14,    27] loss: 0.009\n",
            "accuracy: 0.470\n",
            "[14,    37] loss: 0.008\n",
            "[15,     3] loss: 0.008\n",
            "accuracy: 0.450\n",
            "[15,    13] loss: 0.008\n",
            "[15,    23] loss: 0.008\n",
            "accuracy: 0.472\n",
            "[15,    33] loss: 0.007\n",
            "[15,    43] loss: 0.008\n",
            "accuracy: 0.466\n",
            "[16,     9] loss: 0.007\n",
            "[16,    19] loss: 0.007\n",
            "accuracy: 0.473\n",
            "[16,    29] loss: 0.007\n",
            "[16,    39] loss: 0.007\n",
            "accuracy: 0.464\n",
            "[17,     5] loss: 0.007\n",
            "[17,    15] loss: 0.007\n",
            "accuracy: 0.464\n",
            "[17,    25] loss: 0.007\n",
            "[17,    35] loss: 0.007\n",
            "accuracy: 0.464\n",
            "[18,     1] loss: 0.006\n",
            "[18,    11] loss: 0.007\n",
            "accuracy: 0.446\n",
            "[18,    21] loss: 0.006\n",
            "[18,    31] loss: 0.007\n",
            "accuracy: 0.457\n",
            "[18,    41] loss: 0.006\n",
            "[19,     7] loss: 0.006\n",
            "accuracy: 0.449\n",
            "[19,    17] loss: 0.006\n",
            "[19,    27] loss: 0.006\n",
            "accuracy: 0.473\n",
            "[19,    37] loss: 0.006\n",
            "[20,     3] loss: 0.005\n",
            "accuracy: 0.472\n",
            "[20,    13] loss: 0.005\n",
            "[20,    23] loss: 0.006\n",
            "accuracy: 0.462\n",
            "[20,    33] loss: 0.005\n",
            "[20,    43] loss: 0.005\n",
            "accuracy: 0.462\n",
            "[21,     9] loss: 0.005\n",
            "[21,    19] loss: 0.005\n",
            "accuracy: 0.467\n",
            "[21,    29] loss: 0.005\n",
            "[21,    39] loss: 0.005\n",
            "accuracy: 0.446\n",
            "[22,     5] loss: 0.005\n",
            "[22,    15] loss: 0.004\n",
            "accuracy: 0.467\n",
            "[22,    25] loss: 0.005\n",
            "[22,    35] loss: 0.005\n",
            "accuracy: 0.491\n",
            "[23,     1] loss: 0.004\n",
            "[23,    11] loss: 0.004\n",
            "accuracy: 0.456\n",
            "[23,    21] loss: 0.004\n",
            "[23,    31] loss: 0.004\n",
            "accuracy: 0.472\n",
            "[23,    41] loss: 0.004\n",
            "[24,     7] loss: 0.004\n",
            "accuracy: 0.496\n",
            "[24,    17] loss: 0.004\n",
            "[24,    27] loss: 0.004\n",
            "accuracy: 0.469\n",
            "[24,    37] loss: 0.004\n",
            "[25,     3] loss: 0.004\n",
            "accuracy: 0.447\n",
            "[25,    13] loss: 0.004\n",
            "[25,    23] loss: 0.004\n",
            "accuracy: 0.457\n",
            "[25,    33] loss: 0.004\n",
            "[25,    43] loss: 0.004\n",
            "accuracy: 0.442\n",
            "[26,     9] loss: 0.003\n",
            "[26,    19] loss: 0.003\n",
            "accuracy: 0.482\n",
            "[26,    29] loss: 0.004\n",
            "[26,    39] loss: 0.004\n",
            "accuracy: 0.462\n",
            "[27,     5] loss: 0.004\n",
            "[27,    15] loss: 0.003\n",
            "accuracy: 0.462\n",
            "[27,    25] loss: 0.003\n",
            "[27,    35] loss: 0.003\n",
            "accuracy: 0.442\n",
            "[28,     1] loss: 0.003\n",
            "[28,    11] loss: 0.003\n",
            "accuracy: 0.455\n",
            "[28,    21] loss: 0.003\n",
            "[28,    31] loss: 0.003\n",
            "accuracy: 0.467\n",
            "[28,    41] loss: 0.003\n",
            "[29,     7] loss: 0.003\n",
            "accuracy: 0.469\n",
            "[29,    17] loss: 0.002\n",
            "[29,    27] loss: 0.002\n",
            "accuracy: 0.405\n",
            "[29,    37] loss: 0.003\n",
            "[30,     3] loss: 0.003\n",
            "accuracy: 0.440\n",
            "[30,    13] loss: 0.003\n",
            "[30,    23] loss: 0.002\n",
            "accuracy: 0.469\n",
            "[30,    33] loss: 0.003\n",
            "[30,    43] loss: 0.002\n",
            "accuracy: 0.489\n",
            "[31,     9] loss: 0.002\n",
            "[31,    19] loss: 0.003\n",
            "accuracy: 0.456\n",
            "[31,    29] loss: 0.002\n",
            "[31,    39] loss: 0.003\n",
            "accuracy: 0.473\n",
            "[32,     5] loss: 0.002\n",
            "[32,    15] loss: 0.002\n",
            "accuracy: 0.464\n",
            "[32,    25] loss: 0.002\n",
            "[32,    35] loss: 0.002\n",
            "accuracy: 0.476\n",
            "[33,     1] loss: 0.002\n",
            "[33,    11] loss: 0.002\n",
            "accuracy: 0.467\n",
            "[33,    21] loss: 0.002\n",
            "[33,    31] loss: 0.002\n",
            "accuracy: 0.464\n",
            "[33,    41] loss: 0.002\n",
            "[34,     7] loss: 0.002\n",
            "accuracy: 0.484\n",
            "[34,    17] loss: 0.002\n",
            "[34,    27] loss: 0.002\n",
            "accuracy: 0.466\n",
            "[34,    37] loss: 0.002\n",
            "[35,     3] loss: 0.002\n",
            "accuracy: 0.462\n",
            "[35,    13] loss: 0.002\n",
            "[35,    23] loss: 0.002\n",
            "accuracy: 0.470\n",
            "[35,    33] loss: 0.002\n",
            "[35,    43] loss: 0.002\n",
            "accuracy: 0.480\n",
            "[36,     9] loss: 0.002\n",
            "[36,    19] loss: 0.001\n",
            "accuracy: 0.470\n",
            "[36,    29] loss: 0.002\n",
            "[36,    39] loss: 0.002\n",
            "accuracy: 0.473\n",
            "[37,     5] loss: 0.002\n",
            "[37,    15] loss: 0.001\n",
            "accuracy: 0.449\n",
            "[37,    25] loss: 0.001\n",
            "[37,    35] loss: 0.002\n",
            "accuracy: 0.446\n",
            "[38,     1] loss: 0.002\n",
            "[38,    11] loss: 0.001\n",
            "accuracy: 0.449\n",
            "[38,    21] loss: 0.001\n",
            "[38,    31] loss: 0.002\n",
            "accuracy: 0.464\n",
            "[38,    41] loss: 0.002\n",
            "[39,     7] loss: 0.001\n",
            "accuracy: 0.472\n",
            "[39,    17] loss: 0.001\n",
            "[39,    27] loss: 0.001\n",
            "accuracy: 0.472\n",
            "[39,    37] loss: 0.002\n",
            "[40,     3] loss: 0.002\n",
            "accuracy: 0.438\n",
            "[40,    13] loss: 0.001\n",
            "[40,    23] loss: 0.001\n",
            "accuracy: 0.472\n",
            "[40,    33] loss: 0.001\n",
            "[40,    43] loss: 0.001\n",
            "accuracy: 0.456\n",
            "[41,     9] loss: 0.001\n",
            "[41,    19] loss: 0.001\n",
            "accuracy: 0.450\n",
            "[41,    29] loss: 0.001\n",
            "[41,    39] loss: 0.001\n",
            "accuracy: 0.470\n",
            "[42,     5] loss: 0.001\n",
            "[42,    15] loss: 0.001\n",
            "accuracy: 0.466\n",
            "[42,    25] loss: 0.001\n",
            "[42,    35] loss: 0.001\n",
            "accuracy: 0.455\n",
            "[43,     1] loss: 0.001\n",
            "[43,    11] loss: 0.001\n",
            "accuracy: 0.466\n",
            "[43,    21] loss: 0.001\n",
            "[43,    31] loss: 0.001\n",
            "accuracy: 0.463\n",
            "[43,    41] loss: 0.001\n",
            "[44,     7] loss: 0.001\n",
            "accuracy: 0.456\n",
            "[44,    17] loss: 0.001\n",
            "[44,    27] loss: 0.001\n",
            "accuracy: 0.467\n",
            "[44,    37] loss: 0.001\n",
            "[45,     3] loss: 0.001\n",
            "accuracy: 0.466\n",
            "[45,    13] loss: 0.001\n",
            "[45,    23] loss: 0.001\n",
            "accuracy: 0.466\n",
            "[45,    33] loss: 0.001\n",
            "[45,    43] loss: 0.001\n",
            "accuracy: 0.453\n",
            "[46,     9] loss: 0.001\n",
            "[46,    19] loss: 0.001\n",
            "accuracy: 0.452\n",
            "[46,    29] loss: 0.001\n",
            "[46,    39] loss: 0.001\n",
            "accuracy: 0.442\n",
            "[47,     5] loss: 0.001\n",
            "[47,    15] loss: 0.001\n",
            "accuracy: 0.433\n",
            "[47,    25] loss: 0.001\n",
            "[47,    35] loss: 0.001\n",
            "accuracy: 0.449\n",
            "[48,     1] loss: 0.001\n",
            "[48,    11] loss: 0.001\n",
            "accuracy: 0.472\n",
            "[48,    21] loss: 0.001\n",
            "[48,    31] loss: 0.001\n",
            "accuracy: 0.455\n",
            "[48,    41] loss: 0.001\n",
            "[49,     7] loss: 0.001\n",
            "accuracy: 0.466\n",
            "[49,    17] loss: 0.001\n",
            "[49,    27] loss: 0.001\n",
            "accuracy: 0.446\n",
            "[49,    37] loss: 0.001\n",
            "[50,     3] loss: 0.001\n",
            "accuracy: 0.463\n",
            "[50,    13] loss: 0.001\n",
            "[50,    23] loss: 0.001\n",
            "accuracy: 0.477\n",
            "[50,    33] loss: 0.001\n",
            "[50,    43] loss: 0.001\n"
          ],
          "name": "stdout"
        },
        {
          "output_type": "stream",
          "text": [
            "No handles with labels found to put in legend.\n"
          ],
          "name": "stderr"
        },
        {
          "output_type": "stream",
          "text": [
            "accuracy: 0.464\n",
            "accuracy: 0.463\n"
          ],
          "name": "stdout"
        },
        {
          "output_type": "display_data",
          "data": {
            "image/png": "[encoded data removed]",
            "text/plain": [
              "<Figure size 360x360 with 1 Axes>"
            ]
          },
          "metadata": {
            "tags": [],
            "needs_background": "light"
          }
        }
      ]
    },
    {
      "cell_type": "code",
      "metadata": {
        "id": "yqf3i8lhJWPI"
      },
      "source": [
        "def trainTorchModel(args, model_name=\"VGG\"):\n",
        "    \"\"\"\n",
        "    @Brief: training your model. This should include the following items:\n",
        "        - Initialize the model (already given). Only need to map the model to the device on which you would want to run the model on \n",
        "                using the following syntax: \n",
        "                model = model.to(device) \n",
        "                where device = torch.device(<device_name>), \n",
        "                i.e: device = torch.device(\"cuda:0\") or device = torech.device(\"cpu\")\n",
        "                    \n",
        "        - Initialize tensorboard summarizers (already given)\n",
        "        - Initialize data loaders (you need to code up)\n",
        "        - Initialize the optimizer (you need to code up. Type is of your choice)\n",
        "        - Initialize the loss function (you should have coded up above)\n",
        "        - A for loop to iterate through many epochs (up to your choice). In each epoch:\n",
        "                - Iterate through every mini-batches (remember to map data and labels to the device that you would want to run the model on)\n",
        "                        - Run the forward path\n",
        "                        - Get loss\n",
        "                        - Calculate gradients \n",
        "                        - Update the model's parameters\n",
        "                - Evaluate your model on the validation set\n",
        "                - Save the model if the performance on the validation set is better using exactly the following line:\n",
        "                        save_model(model, model_name) \n",
        "                 \n",
        "    @Inputs: \n",
        "        Args: object of your choice to carry arguments that you want to use within your training function. \n",
        "    @Output: \n",
        "        No return is necessary here. \n",
        "    \"\"\"\n",
        "    # Do not touch the following lines\n",
        "    # Initialize tensorboard loggers\n",
        "    if args.log_dir is not None:\n",
        "        train_logger = tb.SummaryWriter(os.path.join(args.log_dir, 'train'))\n",
        "        valid_logger = tb.SummaryWriter(os.path.join(args.log_dir, 'valid'))\n",
        "    \n",
        "    # Create subfolders to save the tensorboard log files\n",
        "    if not os.path.exists(os.path.join(args.log_dir, f'train/{model_name}')):\n",
        "        os.makedirs(os.path.join(args.log_dir, f'train/{model_name}'))\n",
        "    if not os.path.exists(os.path.join(args.log_dir, f'valid/{model_name}')):\n",
        "        os.makedirs(os.path.join(args.log_dir, f'valid/{model_name}'))  \n",
        "    #----------------------------------------\n",
        "    \n",
        "    # YOUR CODE HERE\n",
        "    device =  torch.device(\"cuda:0\" if torch.cuda.is_available() else \"cpu\")\n",
        "    # Initialize the model \n",
        "    if model_name == \"VGG\":\n",
        "        model = torchvision.models.vgg16(pretrained=False).to(device)\n",
        "    model.apply(init_weights)\n",
        "    \n",
        "    train_loader = load_data(X_train, y_train, data_transforms=None, num_workers=0, batch_size=args.batch_size)\n",
        "    test_loader = load_data(X_test, y_test, data_transforms=None, num_workers=0, batch_size=args.batch_size)\n",
        "    \n",
        "    if args.optimizer == 'adam': \n",
        "      optimizer = torch.optim.Adam(model.parameters(),lr = args.learning_rate)\n",
        "    else: \n",
        "      optimizer = torch.optim.SGD(model.parameters(), lr=0.002, momentum=0.9)\n",
        "    \n",
        "    criterion = ClassificationLoss()\n",
        "    running_loss = 0.0\n",
        "    counter = 0\n",
        "    def check_accuracy():\n",
        "      correct = 0\n",
        "      total = 0\n",
        "      with torch.no_grad():\n",
        "          for data in test_loader:\n",
        "              images, labels = data[0].to(device), data[1].to(device)\n",
        "              outputs = model(images)\n",
        "              _, predicted = torch.max(outputs.data, 1)\n",
        "              total += labels.size(0)\n",
        "              correct += (predicted == labels).sum().item()\n",
        "      acc = correct / total\n",
        "      print('accuracy: %.3f' %(acc))\n",
        "      return acc\n",
        "    best_acc = 0\n",
        "\n",
        "    loss_curve = []\n",
        "    epoch_loss_mid = 0\n",
        "    run_loss = []\n",
        "    num_epochs = 30\n",
        "\n",
        "    for epoch in range(num_epochs):\n",
        "      for i,(inputs,labels) in enumerate(train_loader):\n",
        "        counter += 1\n",
        "        optimizer.zero_grad()\n",
        "\n",
        "        # Forward propogation happens here\n",
        "        inputs = inputs.to(device)\n",
        "        outputs = model(inputs) \n",
        "\n",
        "        labels = labels.to(device)\n",
        "        loss = criterion(outputs,labels)  \n",
        "        loss.backward()\n",
        "        optimizer.step()\n",
        "        running_loss += loss.item()\n",
        "        if (counter+1) % 10 == 0: \n",
        "            print('[%d, %5d] loss: %.3f' %(epoch + 1, i + 1, running_loss / 1000))\n",
        "\n",
        "            epoch_loss_mid += running_loss / 1000\n",
        "            run_loss.append(running_loss)\n",
        "\n",
        "            running_loss = 0.0\n",
        "\n",
        "      L = len(run_loss)\n",
        "      loss_curve.append(epoch_loss_mid / L)\n",
        "      epoch_loss_mid = 0\n",
        "      run_loss = []\n",
        "\n",
        "      if (counter+1) % 20 == 0:\n",
        "          acc = check_accuracy()\n",
        "          if acc > best_acc:\n",
        "            save_model(model, model_name)\n",
        "      acc = check_accuracy()\n",
        "    \n",
        "    if acc > best_acc:\n",
        "      save_model(model, model_name)\n",
        "\n",
        "\n",
        "    epochs = np.arange(num_epochs)    \n",
        "    plt.figure(figsize=(5,5))\n",
        "    plt.plot(epochs,loss_curve)\n",
        "    plt.title(\"Loss vs num Epochs\")\n",
        "    plt.legend()\n",
        "    plt.xlabel(\"Epochs\")\n",
        "    plt.ylabel(\"Loss\")\n",
        "    plt.show()\n",
        "\n",
        "\n",
        "    # Don't touch the following lines\n",
        "    #You are not returning a model, but rather saving it to a file, which you will upload along with the homework4.py file\n",
        "    save_model(model, model_name) \n",
        "    # Make sure the file has been saved \n",
        "    assert os.path.exists(model_name + \".pth\") and os.path.isfile(model_name + \".pth\"), f\"[Fail to save your model named {model_name}.pth!\""
      ],
      "execution_count": null,
      "outputs": []
    },
    {
      "cell_type": "code",
      "metadata": {
        "id": "krBXujdMCLLx",
        "colab": {
          "base_uri": "https://localhost:8080/",
          "height": 1000
        },
        "outputId": "d13540f8-8029-4240-923b-a99c0b9d10dd"
      },
      "source": [
        "trainTorchModel(args, \"VGG\")"
      ],
      "execution_count": null,
      "outputs": [
        {
          "output_type": "stream",
          "text": [
            "[1,     9] loss: 0.031\n",
            "[1,    19] loss: 0.020\n",
            "accuracy: 0.156\n",
            "[2,     7] loss: 0.019\n",
            "[2,    17] loss: 0.019\n",
            "accuracy: 0.261\n",
            "[3,     5] loss: 0.018\n",
            "[3,    15] loss: 0.017\n",
            "accuracy: 0.312\n",
            "[4,     3] loss: 0.017\n",
            "[4,    13] loss: 0.016\n",
            "accuracy: 0.358\n",
            "[5,     1] loss: 0.016\n",
            "[5,    11] loss: 0.015\n",
            "[5,    21] loss: 0.015\n",
            "accuracy: 0.345\n",
            "[6,     9] loss: 0.015\n",
            "[6,    19] loss: 0.014\n",
            "accuracy: 0.445\n",
            "[7,     7] loss: 0.013\n",
            "[7,    17] loss: 0.013\n",
            "accuracy: 0.422\n",
            "[8,     5] loss: 0.014\n",
            "[8,    15] loss: 0.013\n",
            "accuracy: 0.477\n",
            "[9,     3] loss: 0.012\n",
            "[9,    13] loss: 0.013\n",
            "accuracy: 0.456\n",
            "[10,     1] loss: 0.013\n",
            "[10,    11] loss: 0.013\n",
            "[10,    21] loss: 0.012\n",
            "accuracy: 0.456\n",
            "[11,     9] loss: 0.012\n",
            "[11,    19] loss: 0.011\n",
            "accuracy: 0.530\n",
            "[12,     7] loss: 0.011\n",
            "[12,    17] loss: 0.011\n",
            "accuracy: 0.503\n",
            "[13,     5] loss: 0.011\n",
            "[13,    15] loss: 0.011\n",
            "accuracy: 0.516\n",
            "[14,     3] loss: 0.010\n",
            "[14,    13] loss: 0.010\n",
            "accuracy: 0.493\n",
            "[15,     1] loss: 0.009\n",
            "[15,    11] loss: 0.009\n",
            "[15,    21] loss: 0.009\n",
            "accuracy: 0.516\n",
            "[16,     9] loss: 0.009\n",
            "[16,    19] loss: 0.008\n",
            "accuracy: 0.564\n",
            "[17,     7] loss: 0.007\n",
            "[17,    17] loss: 0.010\n",
            "accuracy: 0.581\n",
            "[18,     5] loss: 0.008\n",
            "[18,    15] loss: 0.007\n",
            "accuracy: 0.534\n",
            "[19,     3] loss: 0.007\n",
            "[19,    13] loss: 0.006\n",
            "accuracy: 0.594\n",
            "[20,     1] loss: 0.005\n",
            "[20,    11] loss: 0.005\n",
            "[20,    21] loss: 0.006\n",
            "accuracy: 0.580\n",
            "[21,     9] loss: 0.004\n",
            "[21,    19] loss: 0.003\n",
            "accuracy: 0.550\n",
            "[22,     7] loss: 0.003\n",
            "[22,    17] loss: 0.004\n",
            "accuracy: 0.555\n",
            "[23,     5] loss: 0.004\n",
            "[23,    15] loss: 0.003\n",
            "accuracy: 0.533\n",
            "[24,     3] loss: 0.004\n",
            "[24,    13] loss: 0.003\n",
            "accuracy: 0.562\n",
            "[25,     1] loss: 0.003\n",
            "[25,    11] loss: 0.002\n",
            "[25,    21] loss: 0.002\n",
            "accuracy: 0.587\n",
            "[26,     9] loss: 0.002\n",
            "[26,    19] loss: 0.002\n",
            "accuracy: 0.565\n",
            "[27,     7] loss: 0.002\n",
            "[27,    17] loss: 0.002\n",
            "accuracy: 0.584\n",
            "[28,     5] loss: 0.002\n",
            "[28,    15] loss: 0.002\n",
            "accuracy: 0.568\n",
            "[29,     3] loss: 0.001\n",
            "[29,    13] loss: 0.001\n",
            "accuracy: 0.602\n",
            "[30,     1] loss: 0.001\n",
            "[30,    11] loss: 0.001\n",
            "[30,    21] loss: 0.001\n",
            "accuracy: 0.592\n"
          ],
          "name": "stdout"
        },
        {
          "output_type": "stream",
          "text": [
            "No handles with labels found to put in legend.\n"
          ],
          "name": "stderr"
        },
        {
          "output_type": "display_data",
          "data": {
            "image/png": "[encoded data removed]",
            "text/plain": [
              "<Figure size 360x360 with 1 Axes>"
            ]
          },
          "metadata": {
            "tags": [],
            "needs_background": "light"
          }
        }
      ]
    },
    {
      "cell_type": "code",
      "metadata": {
        "id": "4X72a5UtRfT0"
      },
      "source": [
        "def trainTorchModel(args, model_name=\"Resnet\"):\n",
        "    # Do not touch the following lines\n",
        "    # Initialize tensorboard loggers\n",
        "    if args.log_dir is not None:\n",
        "        train_logger = tb.SummaryWriter(os.path.join(args.log_dir, 'train'))\n",
        "        valid_logger = tb.SummaryWriter(os.path.join(args.log_dir, 'valid'))\n",
        "    \n",
        "    # Create subfolders to save the tensorboard log files\n",
        "    if not os.path.exists(os.path.join(args.log_dir, f'train/{model_name}')):\n",
        "        os.makedirs(os.path.join(args.log_dir, f'train/{model_name}'))\n",
        "    if not os.path.exists(os.path.join(args.log_dir, f'valid/{model_name}')):\n",
        "        os.makedirs(os.path.join(args.log_dir, f'valid/{model_name}'))  \n",
        "    #----------------------------------------\n",
        "    \n",
        "    device =  torch.device(\"cuda:0\" if torch.cuda.is_available() else \"cpu\")\n",
        "    # Initialize the model \n",
        "    if model_name == \"Resnet\":\n",
        "        model = torchvision.models.resnet18(pretrained=True).to(device)\n",
        "    model.apply(init_weights)\n",
        "    \n",
        "    train_loader = load_data(X_train, y_train, data_transforms=None, num_workers=0, batch_size=args.batch_size)\n",
        "    test_loader = load_data(X_test, y_test, data_transforms=None, num_workers=0, batch_size=args.batch_size)\n",
        "    \n",
        "    if args.optimizer == 'adam': \n",
        "      optimizer = torch.optim.Adam(model.parameters(),lr = args.learning_rate)\n",
        "    else: \n",
        "      optimizer = torch.optim.SGD(model.parameters(), lr=0.002, momentum=0.9)\n",
        "    \n",
        "    criterion = ClassificationLoss()\n",
        "    running_loss = 0.0\n",
        "    counter = 0\n",
        "    def check_accuracy():\n",
        "      correct = 0\n",
        "      total = 0\n",
        "      with torch.no_grad():\n",
        "          for data in test_loader:\n",
        "              images, labels = data[0].to(device), data[1].to(device)\n",
        "              outputs = model(images)\n",
        "              _, predicted = torch.max(outputs.data, 1)\n",
        "              total += labels.size(0)\n",
        "              correct += (predicted == labels).sum().item()\n",
        "      acc = correct / total\n",
        "      print('accuracy: %.3f' %(acc))\n",
        "      return acc\n",
        "    best_acc = 0\n",
        "\n",
        "    loss_curve = []\n",
        "    epoch_loss_mid = 0\n",
        "    run_loss = []\n",
        "    num_epochs = 15\n",
        "\n",
        "    for epoch in range(num_epochs):\n",
        "      for i,(inputs,labels) in enumerate(train_loader):\n",
        "        counter += 1\n",
        "        optimizer.zero_grad()\n",
        "\n",
        "        # Forward propogation happens here\n",
        "        inputs = inputs.to(device)\n",
        "        outputs = model(inputs) \n",
        "\n",
        "        labels = labels.to(device)\n",
        "        loss = criterion(outputs,labels)  \n",
        "        loss.backward()\n",
        "        optimizer.step()\n",
        "        running_loss += loss.item()\n",
        "        if (counter+1) % 10 == 0: \n",
        "            print('[%d, %5d] loss: %.3f' %(epoch + 1, i + 1, running_loss / 1000))\n",
        "\n",
        "            epoch_loss_mid += running_loss / 1000\n",
        "            run_loss.append(running_loss)\n",
        "\n",
        "            running_loss = 0.0\n",
        "\n",
        "      L = len(run_loss)\n",
        "      loss_curve.append(epoch_loss_mid / L)\n",
        "      epoch_loss_mid = 0\n",
        "      run_loss = []\n",
        "\n",
        "      acc = check_accuracy()\n",
        "\n",
        "\n",
        "    epochs = np.arange(num_epochs)    \n",
        "    plt.figure(figsize=(5,5))\n",
        "    plt.plot(epochs,loss_curve)\n",
        "    plt.title(\"Loss vs num Epochs\")\n",
        "    plt.legend()\n",
        "    plt.xlabel(\"Epochs\")\n",
        "    plt.ylabel(\"Loss\")\n",
        "    plt.show()\n",
        "\n",
        "    # Don't touch the following lines\n",
        "    #You are not returning a model, but rather saving it to a file, which you will upload along with the homework4.py file\n",
        "    #save_model(model, model_name) \n",
        "    # Make sure the file has been saved \n",
        "    #assert os.path.exists(model_name + \".pth\") and os.path.isfile(model_name + \".pth\"), f\"[Fail to save your model named {model_name}.pth!\""
      ],
      "execution_count": null,
      "outputs": []
    },
    {
      "cell_type": "code",
      "metadata": {
        "colab": {
          "base_uri": "https://localhost:8080/",
          "height": 1000
        },
        "id": "1LZhzUIlatFI",
        "outputId": "7c4adc9c-73ad-4b40-ba6f-3543f05c07c0"
      },
      "source": [
        "trainTorchModel(args, \"Resnet\")"
      ],
      "execution_count": null,
      "outputs": [
        {
          "output_type": "stream",
          "text": [
            "[1,     9] loss: 0.040\n",
            "[1,    19] loss: 0.026\n",
            "[1,    29] loss: 0.017\n",
            "[1,    39] loss: 0.014\n",
            "accuracy: 0.513\n",
            "[2,     5] loss: 0.012\n",
            "[2,    15] loss: 0.009\n",
            "[2,    25] loss: 0.009\n",
            "[2,    35] loss: 0.008\n",
            "accuracy: 0.533\n",
            "[3,     1] loss: 0.008\n",
            "[3,    11] loss: 0.003\n",
            "[3,    21] loss: 0.003\n",
            "[3,    31] loss: 0.003\n",
            "[3,    41] loss: 0.003\n",
            "accuracy: 0.482\n",
            "[4,     7] loss: 0.002\n",
            "[4,    17] loss: 0.001\n",
            "[4,    27] loss: 0.001\n",
            "[4,    37] loss: 0.001\n",
            "accuracy: 0.520\n",
            "[5,     3] loss: 0.001\n",
            "[5,    13] loss: 0.001\n",
            "[5,    23] loss: 0.001\n",
            "[5,    33] loss: 0.001\n",
            "[5,    43] loss: 0.001\n",
            "accuracy: 0.510\n",
            "[6,     9] loss: 0.000\n",
            "[6,    19] loss: 0.000\n",
            "[6,    29] loss: 0.000\n",
            "[6,    39] loss: 0.000\n",
            "accuracy: 0.513\n",
            "[7,     5] loss: 0.001\n",
            "[7,    15] loss: 0.000\n",
            "[7,    25] loss: 0.000\n",
            "[7,    35] loss: 0.000\n",
            "accuracy: 0.514\n",
            "[8,     1] loss: 0.000\n",
            "[8,    11] loss: 0.000\n",
            "[8,    21] loss: 0.000\n",
            "[8,    31] loss: 0.000\n",
            "[8,    41] loss: 0.000\n",
            "accuracy: 0.533\n",
            "[9,     7] loss: 0.000\n",
            "[9,    17] loss: 0.000\n",
            "[9,    27] loss: 0.000\n",
            "[9,    37] loss: 0.000\n",
            "accuracy: 0.517\n",
            "[10,     3] loss: 0.000\n",
            "[10,    13] loss: 0.000\n",
            "[10,    23] loss: 0.000\n",
            "[10,    33] loss: 0.000\n",
            "[10,    43] loss: 0.000\n",
            "accuracy: 0.520\n",
            "[11,     9] loss: 0.000\n",
            "[11,    19] loss: 0.000\n",
            "[11,    29] loss: 0.000\n",
            "[11,    39] loss: 0.000\n",
            "accuracy: 0.521\n",
            "[12,     5] loss: 0.000\n",
            "[12,    15] loss: 0.000\n",
            "[12,    25] loss: 0.000\n",
            "[12,    35] loss: 0.001\n",
            "accuracy: 0.521\n",
            "[13,     1] loss: 0.001\n",
            "[13,    11] loss: 0.000\n",
            "[13,    21] loss: 0.001\n",
            "[13,    31] loss: 0.000\n",
            "[13,    41] loss: 0.001\n",
            "accuracy: 0.490\n",
            "[14,     7] loss: 0.001\n",
            "[14,    17] loss: 0.001\n",
            "[14,    27] loss: 0.001\n",
            "[14,    37] loss: 0.001\n",
            "accuracy: 0.484\n",
            "[15,     3] loss: 0.001\n",
            "[15,    13] loss: 0.001\n",
            "[15,    23] loss: 0.001\n",
            "[15,    33] loss: 0.001\n",
            "[15,    43] loss: 0.001\n"
          ],
          "name": "stdout"
        },
        {
          "output_type": "stream",
          "text": [
            "No handles with labels found to put in legend.\n"
          ],
          "name": "stderr"
        },
        {
          "output_type": "stream",
          "text": [
            "accuracy: 0.506\n"
          ],
          "name": "stdout"
        },
        {
          "output_type": "display_data",
          "data": {
            "image/png": "[encoded data removed]",
            "text/plain": [
              "<Figure size 360x360 with 1 Axes>"
            ]
          },
          "metadata": {
            "tags": [],
            "needs_background": "light"
          }
        }
      ]
    },
    {
      "cell_type": "markdown",
      "metadata": {
        "id": "MKAwqUM8vd1Z"
      },
      "source": [
        "Compare accuracy between different genres."
      ]
    },
    {
      "cell_type": "code",
      "metadata": {
        "id": "4X1KLYg6vZdo"
      },
      "source": [
        "# function to plot confusion matrix\n",
        "# From https://medium.com/@vikashrajluhaniwal, author: Vikashraj Luhaniwal\n",
        "def plot_confusion_matrix(cm,lables):\n",
        "    fig, ax = plt.subplots(figsize=(12,8)) # for plotting confusion matrix as image\n",
        "    im = ax.imshow(cm, interpolation='nearest', cmap=plt.cm.Blues)\n",
        "    ax.figure.colorbar(im, ax=ax)\n",
        "    ax.set(xticks=np.arange(cm.shape[1]),\n",
        "    yticks=np.arange(cm.shape[0]),\n",
        "    xticklabels=lables, yticklabels=lables,\n",
        "    ylabel='True label',\n",
        "    xlabel='Predicted label')\n",
        "    plt.xticks(rotation = 90)\n",
        "    thresh = cm.max() / 2.\n",
        "    for i in range(cm.shape[0]):\n",
        "        for j in range(cm.shape[1]):\n",
        "            ax.text(j, i, int(cm[i, j]),ha=\"center\", va=\"center\",color=\"white\" if cm[i, j] > thresh else \"black\")\n",
        "    fig.tight_layout()"
      ],
      "execution_count": null,
      "outputs": []
    },
    {
      "cell_type": "code",
      "metadata": {
        "id": "qXQMrfLjOywJ"
      },
      "source": [
        "def accuracy_labels(preds, labels):\n",
        "    return np.sum(preds == labels)/len(preds)\n",
        "\n",
        "def get_model_accuracy(model_name, device_name='cpu'):\n",
        "    \"\"\"\n",
        "    @Brief: evaluate the model's accuracy on the test set. In this function, instead of using the model that is already  \n",
        "            available in the current running session, we attempt to retrieve it using a Pytorch function called \n",
        "            torch.load(...). \n",
        "            This step is gonna be executed with device_name='cpu' to evaluate your code's submission on gradescope so if it fails here, your submission would likely fail.\n",
        "    @Inputs: \n",
        "        model_name (str): name of the model (without its exitension)\n",
        "        device_name (str): name of the device on which the model is run i.e: 'cpu', 'cuda:0' ...\n",
        "    \"\"\"\n",
        "\n",
        "    if \".\" in model_name:\n",
        "        model_name = model_name.split(\".\")[0]\n",
        "        \n",
        "    data = load_data(X_test, y_test)\n",
        "    \n",
        "    device = torch.device(device_name)\n",
        "    \n",
        "    model = load_model(model_name, device_name)\n",
        "    model = model.to(device)\n",
        "\n",
        "    batch_size = 32\n",
        "    preds = []\n",
        "    labels = []\n",
        "    for (X, Y) in data:\n",
        "        X = X.to(device)\n",
        "        Y = Y.to(device)\n",
        "        y_pred = torch.argmax(model(X), dim = 1).tolist()\n",
        "        y_pred = map(int, y_pred)\n",
        "        preds.extend(list(y_pred))\n",
        "        labels.extend(Y.tolist())\n",
        "\n",
        "    cm = confusion_matrix(np.array(labels), np.array(preds))\n",
        "    plot_confusion_matrix(cm, np.unique(np.array(preds)))\n",
        "    \n",
        "    return accuracy_labels(np.array(preds), np.array(labels))  \n"
      ],
      "execution_count": null,
      "outputs": []
    }
  ]
}